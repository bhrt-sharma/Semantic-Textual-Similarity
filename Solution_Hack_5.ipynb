{
 "cells": [
  {
   "cell_type": "code",
   "execution_count": 63,
   "metadata": {},
   "outputs": [],
   "source": [
    "import pandas as pd\n",
    "import numpy as np\n",
    "import matplotlib.pyplot as plt\n",
    "import seaborn as sns"
   ]
  },
  {
   "cell_type": "code",
   "execution_count": 2,
   "metadata": {},
   "outputs": [],
   "source": [
    "train_df = pd.read_csv(\"Train.csv\")\n",
    "test_df = pd.read_csv(\"Test.csv\")"
   ]
  },
  {
   "cell_type": "code",
   "execution_count": 3,
   "metadata": {},
   "outputs": [
    {
     "name": "stdout",
     "output_type": "stream",
     "text": [
      "(543, 8)\n",
      "(233, 7)\n"
     ]
    }
   ],
   "source": [
    "print(train_df.shape)\n",
    "print(test_df.shape)"
   ]
  },
  {
   "cell_type": "code",
   "execution_count": 4,
   "metadata": {},
   "outputs": [
    {
     "data": {
      "text/html": [
       "<div>\n",
       "<style scoped>\n",
       "    .dataframe tbody tr th:only-of-type {\n",
       "        vertical-align: middle;\n",
       "    }\n",
       "\n",
       "    .dataframe tbody tr th {\n",
       "        vertical-align: top;\n",
       "    }\n",
       "\n",
       "    .dataframe thead th {\n",
       "        text-align: right;\n",
       "    }\n",
       "</style>\n",
       "<table border=\"1\" class=\"dataframe\">\n",
       "  <thead>\n",
       "    <tr style=\"text-align: right;\">\n",
       "      <th></th>\n",
       "      <th>City</th>\n",
       "      <th>Location_Score</th>\n",
       "      <th>Internal_Audit_Score</th>\n",
       "      <th>External_Audit_Score</th>\n",
       "      <th>Fin_Score</th>\n",
       "      <th>Loss_score</th>\n",
       "      <th>Past_Results</th>\n",
       "      <th>IsUnderRisk</th>\n",
       "    </tr>\n",
       "  </thead>\n",
       "  <tbody>\n",
       "    <tr>\n",
       "      <th>0</th>\n",
       "      <td>2</td>\n",
       "      <td>8.032</td>\n",
       "      <td>14</td>\n",
       "      <td>8</td>\n",
       "      <td>3</td>\n",
       "      <td>6</td>\n",
       "      <td>0</td>\n",
       "      <td>1</td>\n",
       "    </tr>\n",
       "    <tr>\n",
       "      <th>1</th>\n",
       "      <td>31</td>\n",
       "      <td>77.730</td>\n",
       "      <td>8</td>\n",
       "      <td>3</td>\n",
       "      <td>3</td>\n",
       "      <td>8</td>\n",
       "      <td>1</td>\n",
       "      <td>0</td>\n",
       "    </tr>\n",
       "    <tr>\n",
       "      <th>2</th>\n",
       "      <td>40</td>\n",
       "      <td>59.203</td>\n",
       "      <td>3</td>\n",
       "      <td>12</td>\n",
       "      <td>11</td>\n",
       "      <td>3</td>\n",
       "      <td>0</td>\n",
       "      <td>1</td>\n",
       "    </tr>\n",
       "    <tr>\n",
       "      <th>3</th>\n",
       "      <td>12</td>\n",
       "      <td>73.080</td>\n",
       "      <td>4</td>\n",
       "      <td>5</td>\n",
       "      <td>7</td>\n",
       "      <td>6</td>\n",
       "      <td>0</td>\n",
       "      <td>0</td>\n",
       "    </tr>\n",
       "    <tr>\n",
       "      <th>4</th>\n",
       "      <td>4</td>\n",
       "      <td>15.666</td>\n",
       "      <td>13</td>\n",
       "      <td>15</td>\n",
       "      <td>6</td>\n",
       "      <td>7</td>\n",
       "      <td>2</td>\n",
       "      <td>1</td>\n",
       "    </tr>\n",
       "  </tbody>\n",
       "</table>\n",
       "</div>"
      ],
      "text/plain": [
       "   City  Location_Score  Internal_Audit_Score  External_Audit_Score  \\\n",
       "0     2           8.032                    14                     8   \n",
       "1    31          77.730                     8                     3   \n",
       "2    40          59.203                     3                    12   \n",
       "3    12          73.080                     4                     5   \n",
       "4     4          15.666                    13                    15   \n",
       "\n",
       "   Fin_Score  Loss_score  Past_Results  IsUnderRisk  \n",
       "0          3           6             0            1  \n",
       "1          3           8             1            0  \n",
       "2         11           3             0            1  \n",
       "3          7           6             0            0  \n",
       "4          6           7             2            1  "
      ]
     },
     "execution_count": 4,
     "metadata": {},
     "output_type": "execute_result"
    }
   ],
   "source": [
    "train_df.head(5)"
   ]
  },
  {
   "cell_type": "code",
   "execution_count": 5,
   "metadata": {},
   "outputs": [
    {
     "data": {
      "text/html": [
       "<div>\n",
       "<style scoped>\n",
       "    .dataframe tbody tr th:only-of-type {\n",
       "        vertical-align: middle;\n",
       "    }\n",
       "\n",
       "    .dataframe tbody tr th {\n",
       "        vertical-align: top;\n",
       "    }\n",
       "\n",
       "    .dataframe thead th {\n",
       "        text-align: right;\n",
       "    }\n",
       "</style>\n",
       "<table border=\"1\" class=\"dataframe\">\n",
       "  <thead>\n",
       "    <tr style=\"text-align: right;\">\n",
       "      <th></th>\n",
       "      <th>City</th>\n",
       "      <th>Location_Score</th>\n",
       "      <th>Internal_Audit_Score</th>\n",
       "      <th>External_Audit_Score</th>\n",
       "      <th>Fin_Score</th>\n",
       "      <th>Loss_score</th>\n",
       "      <th>Past_Results</th>\n",
       "    </tr>\n",
       "  </thead>\n",
       "  <tbody>\n",
       "    <tr>\n",
       "      <th>0</th>\n",
       "      <td>41</td>\n",
       "      <td>18.272</td>\n",
       "      <td>13</td>\n",
       "      <td>12</td>\n",
       "      <td>9</td>\n",
       "      <td>7</td>\n",
       "      <td>0</td>\n",
       "    </tr>\n",
       "  </tbody>\n",
       "</table>\n",
       "</div>"
      ],
      "text/plain": [
       "   City  Location_Score  Internal_Audit_Score  External_Audit_Score  \\\n",
       "0    41          18.272                    13                    12   \n",
       "\n",
       "   Fin_Score  Loss_score  Past_Results  \n",
       "0          9           7             0  "
      ]
     },
     "execution_count": 5,
     "metadata": {},
     "output_type": "execute_result"
    }
   ],
   "source": [
    "test_df.head(1)"
   ]
  },
  {
   "cell_type": "markdown",
   "metadata": {},
   "source": [
    "##### score metric The leaderboard is evaluated using sklearn.metrics.log_loss for the participant’s submission."
   ]
  },
  {
   "cell_type": "markdown",
   "metadata": {},
   "source": [
    "### Let's explore the given training dataset"
   ]
  },
  {
   "cell_type": "code",
   "execution_count": 6,
   "metadata": {},
   "outputs": [
    {
     "data": {
      "text/plain": [
       "City                    False\n",
       "Location_Score          False\n",
       "Internal_Audit_Score    False\n",
       "External_Audit_Score    False\n",
       "Fin_Score               False\n",
       "Loss_score              False\n",
       "Past_Results            False\n",
       "IsUnderRisk             False\n",
       "dtype: bool"
      ]
     },
     "execution_count": 6,
     "metadata": {},
     "output_type": "execute_result"
    }
   ],
   "source": [
    "train_df.isna().any()"
   ]
  },
  {
   "cell_type": "code",
   "execution_count": 7,
   "metadata": {},
   "outputs": [
    {
     "name": "stdout",
     "output_type": "stream",
     "text": [
      "<class 'pandas.core.frame.DataFrame'>\n",
      "RangeIndex: 543 entries, 0 to 542\n",
      "Data columns (total 8 columns):\n",
      "City                    543 non-null int64\n",
      "Location_Score          543 non-null float64\n",
      "Internal_Audit_Score    543 non-null int64\n",
      "External_Audit_Score    543 non-null int64\n",
      "Fin_Score               543 non-null int64\n",
      "Loss_score              543 non-null int64\n",
      "Past_Results            543 non-null int64\n",
      "IsUnderRisk             543 non-null int64\n",
      "dtypes: float64(1), int64(7)\n",
      "memory usage: 34.1 KB\n"
     ]
    }
   ],
   "source": [
    "train_df.info()"
   ]
  },
  {
   "cell_type": "code",
   "execution_count": 8,
   "metadata": {},
   "outputs": [
    {
     "data": {
      "text/html": [
       "<div>\n",
       "<style scoped>\n",
       "    .dataframe tbody tr th:only-of-type {\n",
       "        vertical-align: middle;\n",
       "    }\n",
       "\n",
       "    .dataframe tbody tr th {\n",
       "        vertical-align: top;\n",
       "    }\n",
       "\n",
       "    .dataframe thead th {\n",
       "        text-align: right;\n",
       "    }\n",
       "</style>\n",
       "<table border=\"1\" class=\"dataframe\">\n",
       "  <thead>\n",
       "    <tr style=\"text-align: right;\">\n",
       "      <th></th>\n",
       "      <th>City</th>\n",
       "      <th>Location_Score</th>\n",
       "      <th>Internal_Audit_Score</th>\n",
       "      <th>External_Audit_Score</th>\n",
       "      <th>Fin_Score</th>\n",
       "      <th>Loss_score</th>\n",
       "      <th>Past_Results</th>\n",
       "      <th>IsUnderRisk</th>\n",
       "    </tr>\n",
       "  </thead>\n",
       "  <tbody>\n",
       "    <tr>\n",
       "      <th>count</th>\n",
       "      <td>543.000000</td>\n",
       "      <td>543.000000</td>\n",
       "      <td>543.000000</td>\n",
       "      <td>543.000000</td>\n",
       "      <td>543.000000</td>\n",
       "      <td>543.000000</td>\n",
       "      <td>543.000000</td>\n",
       "      <td>543.000000</td>\n",
       "    </tr>\n",
       "    <tr>\n",
       "      <th>mean</th>\n",
       "      <td>19.576427</td>\n",
       "      <td>32.259346</td>\n",
       "      <td>8.189687</td>\n",
       "      <td>7.327808</td>\n",
       "      <td>7.046041</td>\n",
       "      <td>5.530387</td>\n",
       "      <td>0.613260</td>\n",
       "      <td>0.626151</td>\n",
       "    </tr>\n",
       "    <tr>\n",
       "      <th>std</th>\n",
       "      <td>14.722687</td>\n",
       "      <td>24.887291</td>\n",
       "      <td>3.312022</td>\n",
       "      <td>3.450667</td>\n",
       "      <td>3.156978</td>\n",
       "      <td>1.839124</td>\n",
       "      <td>0.764509</td>\n",
       "      <td>0.484270</td>\n",
       "    </tr>\n",
       "    <tr>\n",
       "      <th>min</th>\n",
       "      <td>0.000000</td>\n",
       "      <td>5.185000</td>\n",
       "      <td>3.000000</td>\n",
       "      <td>3.000000</td>\n",
       "      <td>3.000000</td>\n",
       "      <td>3.000000</td>\n",
       "      <td>0.000000</td>\n",
       "      <td>0.000000</td>\n",
       "    </tr>\n",
       "    <tr>\n",
       "      <th>25%</th>\n",
       "      <td>6.000000</td>\n",
       "      <td>13.565000</td>\n",
       "      <td>6.000000</td>\n",
       "      <td>5.000000</td>\n",
       "      <td>5.000000</td>\n",
       "      <td>4.000000</td>\n",
       "      <td>0.000000</td>\n",
       "      <td>0.000000</td>\n",
       "    </tr>\n",
       "    <tr>\n",
       "      <th>50%</th>\n",
       "      <td>14.000000</td>\n",
       "      <td>19.803000</td>\n",
       "      <td>8.000000</td>\n",
       "      <td>7.000000</td>\n",
       "      <td>7.000000</td>\n",
       "      <td>6.000000</td>\n",
       "      <td>1.000000</td>\n",
       "      <td>1.000000</td>\n",
       "    </tr>\n",
       "    <tr>\n",
       "      <th>75%</th>\n",
       "      <td>37.000000</td>\n",
       "      <td>62.594000</td>\n",
       "      <td>11.000000</td>\n",
       "      <td>10.000000</td>\n",
       "      <td>8.000000</td>\n",
       "      <td>7.000000</td>\n",
       "      <td>1.000000</td>\n",
       "      <td>1.000000</td>\n",
       "    </tr>\n",
       "    <tr>\n",
       "      <th>max</th>\n",
       "      <td>44.000000</td>\n",
       "      <td>80.809000</td>\n",
       "      <td>15.000000</td>\n",
       "      <td>15.000000</td>\n",
       "      <td>15.000000</td>\n",
       "      <td>13.000000</td>\n",
       "      <td>10.000000</td>\n",
       "      <td>1.000000</td>\n",
       "    </tr>\n",
       "  </tbody>\n",
       "</table>\n",
       "</div>"
      ],
      "text/plain": [
       "             City  Location_Score  Internal_Audit_Score  External_Audit_Score  \\\n",
       "count  543.000000      543.000000            543.000000            543.000000   \n",
       "mean    19.576427       32.259346              8.189687              7.327808   \n",
       "std     14.722687       24.887291              3.312022              3.450667   \n",
       "min      0.000000        5.185000              3.000000              3.000000   \n",
       "25%      6.000000       13.565000              6.000000              5.000000   \n",
       "50%     14.000000       19.803000              8.000000              7.000000   \n",
       "75%     37.000000       62.594000             11.000000             10.000000   \n",
       "max     44.000000       80.809000             15.000000             15.000000   \n",
       "\n",
       "        Fin_Score  Loss_score  Past_Results  IsUnderRisk  \n",
       "count  543.000000  543.000000    543.000000   543.000000  \n",
       "mean     7.046041    5.530387      0.613260     0.626151  \n",
       "std      3.156978    1.839124      0.764509     0.484270  \n",
       "min      3.000000    3.000000      0.000000     0.000000  \n",
       "25%      5.000000    4.000000      0.000000     0.000000  \n",
       "50%      7.000000    6.000000      1.000000     1.000000  \n",
       "75%      8.000000    7.000000      1.000000     1.000000  \n",
       "max     15.000000   13.000000     10.000000     1.000000  "
      ]
     },
     "execution_count": 8,
     "metadata": {},
     "output_type": "execute_result"
    }
   ],
   "source": [
    "train_df.describe()"
   ]
  },
  {
   "cell_type": "code",
   "execution_count": 55,
   "metadata": {},
   "outputs": [
    {
     "data": {
      "text/plain": [
       "1    340\n",
       "0    203\n",
       "Name: IsUnderRisk, dtype: int64"
      ]
     },
     "execution_count": 55,
     "metadata": {},
     "output_type": "execute_result"
    }
   ],
   "source": [
    "(train_df['IsUnderRisk'].value_counts())"
   ]
  },
  {
   "cell_type": "code",
   "execution_count": 9,
   "metadata": {},
   "outputs": [
    {
     "data": {
      "text/plain": [
       "40    55\n",
       "9     45\n",
       "6     38\n",
       "41    36\n",
       "10    35\n",
       "2     31\n",
       "5     27\n",
       "37    27\n",
       "38    26\n",
       "31    25\n",
       "Name: City, dtype: int64"
      ]
     },
     "execution_count": 9,
     "metadata": {},
     "output_type": "execute_result"
    }
   ],
   "source": [
    "(train_df['City'].value_counts())[:10]"
   ]
  },
  {
   "cell_type": "code",
   "execution_count": 10,
   "metadata": {},
   "outputs": [
    {
     "data": {
      "text/plain": [
       "43"
      ]
     },
     "execution_count": 10,
     "metadata": {},
     "output_type": "execute_result"
    }
   ],
   "source": [
    "len(train_df['City'].unique())"
   ]
  },
  {
   "cell_type": "markdown",
   "metadata": {},
   "source": [
    "# Co-relation"
   ]
  },
  {
   "cell_type": "code",
   "execution_count": 11,
   "metadata": {},
   "outputs": [
    {
     "data": {
      "text/plain": [
       "<matplotlib.axes._subplots.AxesSubplot at 0x7fa4a3cf3b00>"
      ]
     },
     "execution_count": 11,
     "metadata": {},
     "output_type": "execute_result"
    },
    {
     "data": {
      "image/png": "[encoded data removed]",
      "text/plain": [
       "<Figure size 720x576 with 2 Axes>"
      ]
     },
     "metadata": {
      "needs_background": "light"
     },
     "output_type": "display_data"
    }
   ],
   "source": [
    "corr = train_df.corr()\n",
    "plt.figure(figsize=(10,8))\n",
    "sns.heatmap(corr,annot=True,cmap='plasma',linecolor='black')"
   ]
  },
  {
   "cell_type": "markdown",
   "metadata": {},
   "source": [
    "# Spilting dataset"
   ]
  },
  {
   "cell_type": "code",
   "execution_count": 12,
   "metadata": {},
   "outputs": [],
   "source": [
    "X = train_df.drop(\"IsUnderRisk\",axis=1)\n",
    "y = train_df.IsUnderRisk"
   ]
  },
  {
   "cell_type": "code",
   "execution_count": 24,
   "metadata": {},
   "outputs": [],
   "source": [
    "from sklearn.model_selection import train_test_split\n",
    "X_train,X_test,y_train,y_test = train_test_split(X,y,test_size=0.3,random_state=21)"
   ]
  },
  {
   "cell_type": "markdown",
   "metadata": {},
   "source": [
    "# Scaling"
   ]
  },
  {
   "cell_type": "code",
   "execution_count": 25,
   "metadata": {},
   "outputs": [],
   "source": [
    "from sklearn.preprocessing import StandardScaler\n",
    "sc = StandardScaler()\n",
    "X_train = pd.DataFrame(sc.fit_transform(X_train),columns=X_train.columns)\n",
    "X_test = pd.DataFrame(sc.transform(X_test),columns=X_test.columns)"
   ]
  },
  {
   "cell_type": "code",
   "execution_count": 26,
   "metadata": {},
   "outputs": [
    {
     "name": "stdout",
     "output_type": "stream",
     "text": [
      "(380, 7)\n",
      "(380,)\n",
      "(163, 7)\n",
      "(163,)\n"
     ]
    }
   ],
   "source": [
    "print(X_train.shape)\n",
    "print(y_train.shape)\n",
    "print(X_test.shape)\n",
    "print(y_test.shape)"
   ]
  },
  {
   "cell_type": "markdown",
   "metadata": {},
   "source": [
    "# PCA"
   ]
  },
  {
   "cell_type": "code",
   "execution_count": 27,
   "metadata": {},
   "outputs": [],
   "source": [
    "# from sklearn.decomposition import PCA\n",
    "# temp_pca = PCA(n_components=None)\n",
    "# X_temp =temp_pca.fit_transform(X_train)\n",
    "# variance = temp_pca.explained_variance_ratio_\n",
    "# print(variance)"
   ]
  },
  {
   "cell_type": "code",
   "execution_count": 28,
   "metadata": {},
   "outputs": [],
   "source": [
    "\n",
    "# plt.figure(figsize=(8,6))\n",
    "# plt.plot(np.cumsum(pca.explained_variance_ratio_))\n",
    "# plt.xlim(0,7,1)\n",
    "# plt.xlabel('Number of components')\n",
    "# plt.ylabel('Cumulative explained variance')\n",
    "# plt.show()\n",
    "# # ploting cum"
   ]
  },
  {
   "cell_type": "code",
   "execution_count": 29,
   "metadata": {},
   "outputs": [],
   "source": [
    "# pca = PCA(n_components=6)\n",
    "# X_train =pca.fit_transform(X_train)\n",
    "# X_test = pca.fit(X_test)"
   ]
  },
  {
   "cell_type": "markdown",
   "metadata": {},
   "source": [
    "# Loss"
   ]
  },
  {
   "cell_type": "code",
   "execution_count": 30,
   "metadata": {},
   "outputs": [],
   "source": [
    "from sklearn.metrics import log_loss"
   ]
  },
  {
   "cell_type": "markdown",
   "metadata": {},
   "source": [
    "# Modelling"
   ]
  },
  {
   "cell_type": "markdown",
   "metadata": {},
   "source": [
    "### LogisticRegression"
   ]
  },
  {
   "cell_type": "code",
   "execution_count": 31,
   "metadata": {},
   "outputs": [
    {
     "name": "stdout",
     "output_type": "stream",
     "text": [
      "LogisticRegression log_loss : 0.41070599398105645\n"
     ]
    },
    {
     "data": {
      "text/plain": [
       "0.8236842105263158"
      ]
     },
     "execution_count": 31,
     "metadata": {},
     "output_type": "execute_result"
    }
   ],
   "source": [
    "from sklearn.linear_model import LogisticRegression\n",
    "\n",
    "clf = LogisticRegression(max_iter=200, )\n",
    "clf.fit(X_train, y_train)\n",
    "y_pred = clf.predict_proba(X_test)\n",
    "\n",
    "print(\"LogisticRegression log_loss : {}\". format(log_loss(y_test, y_pred)))\n",
    "clf.score(X_train, y_train)"
   ]
  },
  {
   "cell_type": "markdown",
   "metadata": {},
   "source": [
    "### SVC"
   ]
  },
  {
   "cell_type": "code",
   "execution_count": 32,
   "metadata": {},
   "outputs": [
    {
     "name": "stdout",
     "output_type": "stream",
     "text": [
      "SVC log loss 0.3894\n"
     ]
    },
    {
     "data": {
      "text/plain": [
       "0.8973684210526316"
      ]
     },
     "execution_count": 32,
     "metadata": {},
     "output_type": "execute_result"
    }
   ],
   "source": [
    "from sklearn.svm import SVC\n",
    "\n",
    "clf= SVC(probability=True,)\n",
    "\n",
    "clf.fit(X_train, y_train)\n",
    "y_pred = clf.predict_proba(X_test)\n",
    "\n",
    "print('SVC log loss {0:0.4f}'. format(log_loss(y_test, y_pred)))\n",
    "clf.score(X_train, y_train)"
   ]
  },
  {
   "cell_type": "markdown",
   "metadata": {},
   "source": [
    "### KNeighborsClassifier"
   ]
  },
  {
   "cell_type": "code",
   "execution_count": 33,
   "metadata": {},
   "outputs": [
    {
     "name": "stdout",
     "output_type": "stream",
     "text": [
      "KNeighborsClassifier log loss 0.40016844489014425\n"
     ]
    },
    {
     "data": {
      "text/plain": [
       "0.8289473684210527"
      ]
     },
     "execution_count": 33,
     "metadata": {},
     "output_type": "execute_result"
    }
   ],
   "source": [
    "from sklearn.neighbors import KNeighborsClassifier\n",
    "clf= KNeighborsClassifier(n_neighbors=41,)\n",
    "\n",
    "clf.fit(X_train, y_train)\n",
    "y_pred = clf.predict_proba(X_test)\n",
    "\n",
    "print('KNeighborsClassifier log loss {}'. format(log_loss(y_test, y_pred)))\n",
    "clf.score(X_train, y_train)"
   ]
  },
  {
   "cell_type": "markdown",
   "metadata": {},
   "source": [
    "### DecisionTreeClassifier"
   ]
  },
  {
   "cell_type": "code",
   "execution_count": 34,
   "metadata": {},
   "outputs": [
    {
     "name": "stdout",
     "output_type": "stream",
     "text": [
      "D-Tree log_loss0.4285665454992392\n"
     ]
    },
    {
     "data": {
      "text/plain": [
       "0.8342105263157895"
      ]
     },
     "execution_count": 34,
     "metadata": {},
     "output_type": "execute_result"
    }
   ],
   "source": [
    "from sklearn.tree import DecisionTreeClassifier\n",
    "\n",
    "clf = DecisionTreeClassifier( max_depth=2)\n",
    "clf.fit(X_train, y_train)\n",
    "y_pred = clf.predict_proba(X_test)\n",
    "\n",
    "print('D-Tree log_loss{}'. format(log_loss(y_test, y_pred)))\n",
    "clf.score(X_train, y_train)"
   ]
  },
  {
   "cell_type": "markdown",
   "metadata": {},
   "source": [
    "### RandomForestClassifier"
   ]
  },
  {
   "cell_type": "code",
   "execution_count": 35,
   "metadata": {},
   "outputs": [
    {
     "name": "stdout",
     "output_type": "stream",
     "text": [
      "RandomForestClassifier log loss0.32986842192110166\n"
     ]
    },
    {
     "data": {
      "text/plain": [
       "1.0"
      ]
     },
     "execution_count": 35,
     "metadata": {},
     "output_type": "execute_result"
    }
   ],
   "source": [
    "from sklearn.ensemble import RandomForestClassifier\n",
    "\n",
    "clf= RandomForestClassifier( n_estimators=100, )\n",
    "\n",
    "clf.fit(X_train, y_train)\n",
    "y_pred = clf.predict_proba(X_test)\n",
    "\n",
    "print('RandomForestClassifier log loss{}'. format(log_loss(y_test, y_pred)))\n",
    "clf.score(X_train, y_train)"
   ]
  },
  {
   "cell_type": "markdown",
   "metadata": {},
   "source": [
    "### XGBClassifier"
   ]
  },
  {
   "cell_type": "code",
   "execution_count": 39,
   "metadata": {},
   "outputs": [
    {
     "name": "stdout",
     "output_type": "stream",
     "text": [
      "XGboost log_loss 0.3436825583900319\n"
     ]
    },
    {
     "data": {
      "text/plain": [
       "0.8710526315789474"
      ]
     },
     "execution_count": 39,
     "metadata": {},
     "output_type": "execute_result"
    }
   ],
   "source": [
    "from xgboost import XGBClassifier\n",
    "\n",
    "clf= XGBClassifier(learning_rate=0.04, n_estimators=100, max_depth=2,\n",
    "                        min_child_weight=4, \n",
    "                         seed=27)\n",
    "\n",
    "clf.fit(X_train, y_train)\n",
    "\n",
    "y_pred = clf.predict_proba(X_test)\n",
    "print('XGboost log_loss {}'. format(log_loss(y_test, y_pred)))\n",
    "clf.score(X_train, y_train)"
   ]
  },
  {
   "cell_type": "markdown",
   "metadata": {},
   "source": [
    "### CatBoostClassifier"
   ]
  },
  {
   "cell_type": "code",
   "execution_count": 40,
   "metadata": {},
   "outputs": [
    {
     "name": "stdout",
     "output_type": "stream",
     "text": [
      "Learning rate set to 0.006816\n",
      "0:\tlearn: 0.6861285\ttotal: 62ms\tremaining: 1m 1s\n",
      "1:\tlearn: 0.6794076\ttotal: 67ms\tremaining: 33.4s\n",
      "2:\tlearn: 0.6726769\ttotal: 70.4ms\tremaining: 23.4s\n",
      "3:\tlearn: 0.6664125\ttotal: 74.9ms\tremaining: 18.7s\n",
      "4:\tlearn: 0.6592405\ttotal: 78.3ms\tremaining: 15.6s\n",
      "5:\tlearn: 0.6528086\ttotal: 80.9ms\tremaining: 13.4s\n",
      "6:\tlearn: 0.6470068\ttotal: 82.8ms\tremaining: 11.7s\n",
      "7:\tlearn: 0.6417701\ttotal: 84.5ms\tremaining: 10.5s\n",
      "8:\tlearn: 0.6348611\ttotal: 85.9ms\tremaining: 9.45s\n",
      "9:\tlearn: 0.6289138\ttotal: 87.3ms\tremaining: 8.64s\n",
      "10:\tlearn: 0.6238619\ttotal: 88.7ms\tremaining: 7.97s\n",
      "11:\tlearn: 0.6181615\ttotal: 89.9ms\tremaining: 7.4s\n",
      "12:\tlearn: 0.6124021\ttotal: 91.1ms\tremaining: 6.91s\n",
      "13:\tlearn: 0.6065517\ttotal: 91.9ms\tremaining: 6.47s\n",
      "14:\tlearn: 0.6005929\ttotal: 93ms\tremaining: 6.11s\n",
      "15:\tlearn: 0.5955515\ttotal: 94ms\tremaining: 5.78s\n",
      "16:\tlearn: 0.5904486\ttotal: 95ms\tremaining: 5.49s\n",
      "17:\tlearn: 0.5849678\ttotal: 96ms\tremaining: 5.24s\n",
      "18:\tlearn: 0.5793476\ttotal: 96.8ms\tremaining: 5s\n",
      "19:\tlearn: 0.5746391\ttotal: 97.8ms\tremaining: 4.79s\n",
      "20:\tlearn: 0.5707527\ttotal: 98.6ms\tremaining: 4.6s\n",
      "21:\tlearn: 0.5657611\ttotal: 99.5ms\tremaining: 4.42s\n",
      "22:\tlearn: 0.5607398\ttotal: 100ms\tremaining: 4.26s\n",
      "23:\tlearn: 0.5569782\ttotal: 101ms\tremaining: 4.12s\n",
      "24:\tlearn: 0.5532597\ttotal: 102ms\tremaining: 3.98s\n",
      "25:\tlearn: 0.5488654\ttotal: 103ms\tremaining: 3.86s\n",
      "26:\tlearn: 0.5454472\ttotal: 104ms\tremaining: 3.74s\n",
      "27:\tlearn: 0.5415093\ttotal: 105ms\tremaining: 3.63s\n",
      "28:\tlearn: 0.5378187\ttotal: 106ms\tremaining: 3.54s\n",
      "29:\tlearn: 0.5343245\ttotal: 106ms\tremaining: 3.44s\n",
      "30:\tlearn: 0.5305085\ttotal: 107ms\tremaining: 3.35s\n",
      "31:\tlearn: 0.5265928\ttotal: 108ms\tremaining: 3.27s\n",
      "32:\tlearn: 0.5234327\ttotal: 109ms\tremaining: 3.2s\n",
      "33:\tlearn: 0.5205084\ttotal: 110ms\tremaining: 3.12s\n",
      "34:\tlearn: 0.5164736\ttotal: 111ms\tremaining: 3.05s\n",
      "35:\tlearn: 0.5125727\ttotal: 112ms\tremaining: 2.99s\n",
      "36:\tlearn: 0.5093365\ttotal: 113ms\tremaining: 2.93s\n",
      "37:\tlearn: 0.5057252\ttotal: 114ms\tremaining: 2.88s\n",
      "38:\tlearn: 0.5027653\ttotal: 114ms\tremaining: 2.82s\n",
      "39:\tlearn: 0.4993948\ttotal: 115ms\tremaining: 2.77s\n",
      "40:\tlearn: 0.4960684\ttotal: 116ms\tremaining: 2.72s\n",
      "41:\tlearn: 0.4928931\ttotal: 117ms\tremaining: 2.67s\n",
      "42:\tlearn: 0.4899034\ttotal: 118ms\tremaining: 2.63s\n",
      "43:\tlearn: 0.4863479\ttotal: 119ms\tremaining: 2.58s\n",
      "44:\tlearn: 0.4829207\ttotal: 120ms\tremaining: 2.54s\n",
      "45:\tlearn: 0.4795823\ttotal: 121ms\tremaining: 2.5s\n",
      "46:\tlearn: 0.4762341\ttotal: 121ms\tremaining: 2.46s\n",
      "47:\tlearn: 0.4735217\ttotal: 122ms\tremaining: 2.42s\n",
      "48:\tlearn: 0.4707849\ttotal: 123ms\tremaining: 2.39s\n",
      "49:\tlearn: 0.4682417\ttotal: 124ms\tremaining: 2.35s\n",
      "50:\tlearn: 0.4654454\ttotal: 125ms\tremaining: 2.32s\n",
      "51:\tlearn: 0.4628158\ttotal: 126ms\tremaining: 2.29s\n",
      "52:\tlearn: 0.4594868\ttotal: 127ms\tremaining: 2.26s\n",
      "53:\tlearn: 0.4569085\ttotal: 127ms\tremaining: 2.23s\n",
      "54:\tlearn: 0.4540198\ttotal: 128ms\tremaining: 2.2s\n",
      "55:\tlearn: 0.4510915\ttotal: 129ms\tremaining: 2.18s\n",
      "56:\tlearn: 0.4483251\ttotal: 130ms\tremaining: 2.15s\n",
      "57:\tlearn: 0.4460886\ttotal: 131ms\tremaining: 2.13s\n",
      "58:\tlearn: 0.4429380\ttotal: 132ms\tremaining: 2.1s\n",
      "59:\tlearn: 0.4406049\ttotal: 133ms\tremaining: 2.08s\n",
      "60:\tlearn: 0.4381521\ttotal: 134ms\tremaining: 2.06s\n",
      "61:\tlearn: 0.4357803\ttotal: 134ms\tremaining: 2.03s\n",
      "62:\tlearn: 0.4330667\ttotal: 135ms\tremaining: 2.01s\n",
      "63:\tlearn: 0.4313950\ttotal: 136ms\tremaining: 1.99s\n",
      "64:\tlearn: 0.4293708\ttotal: 137ms\tremaining: 1.97s\n",
      "65:\tlearn: 0.4270603\ttotal: 138ms\tremaining: 1.95s\n",
      "66:\tlearn: 0.4247456\ttotal: 139ms\tremaining: 1.93s\n",
      "67:\tlearn: 0.4227479\ttotal: 140ms\tremaining: 1.91s\n",
      "68:\tlearn: 0.4202956\ttotal: 140ms\tremaining: 1.9s\n",
      "69:\tlearn: 0.4188531\ttotal: 141ms\tremaining: 1.88s\n",
      "70:\tlearn: 0.4171506\ttotal: 142ms\tremaining: 1.86s\n",
      "71:\tlearn: 0.4147359\ttotal: 143ms\tremaining: 1.84s\n",
      "72:\tlearn: 0.4128551\ttotal: 144ms\tremaining: 1.83s\n",
      "73:\tlearn: 0.4105406\ttotal: 145ms\tremaining: 1.81s\n",
      "74:\tlearn: 0.4086408\ttotal: 146ms\tremaining: 1.8s\n",
      "75:\tlearn: 0.4067162\ttotal: 147ms\tremaining: 1.78s\n",
      "76:\tlearn: 0.4046670\ttotal: 147ms\tremaining: 1.77s\n",
      "77:\tlearn: 0.4026110\ttotal: 148ms\tremaining: 1.75s\n",
      "78:\tlearn: 0.4013614\ttotal: 149ms\tremaining: 1.74s\n",
      "79:\tlearn: 0.3993544\ttotal: 150ms\tremaining: 1.72s\n",
      "80:\tlearn: 0.3976562\ttotal: 151ms\tremaining: 1.71s\n",
      "81:\tlearn: 0.3955744\ttotal: 152ms\tremaining: 1.7s\n",
      "82:\tlearn: 0.3937340\ttotal: 153ms\tremaining: 1.69s\n",
      "83:\tlearn: 0.3922661\ttotal: 154ms\tremaining: 1.68s\n",
      "84:\tlearn: 0.3905327\ttotal: 155ms\tremaining: 1.67s\n",
      "85:\tlearn: 0.3885442\ttotal: 156ms\tremaining: 1.65s\n",
      "86:\tlearn: 0.3869685\ttotal: 156ms\tremaining: 1.64s\n",
      "87:\tlearn: 0.3848114\ttotal: 157ms\tremaining: 1.63s\n",
      "88:\tlearn: 0.3832156\ttotal: 158ms\tremaining: 1.62s\n",
      "89:\tlearn: 0.3815377\ttotal: 159ms\tremaining: 1.61s\n",
      "90:\tlearn: 0.3796078\ttotal: 160ms\tremaining: 1.6s\n",
      "91:\tlearn: 0.3781166\ttotal: 161ms\tremaining: 1.59s\n",
      "92:\tlearn: 0.3765161\ttotal: 162ms\tremaining: 1.58s\n",
      "93:\tlearn: 0.3752410\ttotal: 163ms\tremaining: 1.57s\n",
      "94:\tlearn: 0.3734374\ttotal: 163ms\tremaining: 1.55s\n",
      "95:\tlearn: 0.3717571\ttotal: 164ms\tremaining: 1.54s\n",
      "96:\tlearn: 0.3704152\ttotal: 165ms\tremaining: 1.54s\n",
      "97:\tlearn: 0.3690002\ttotal: 166ms\tremaining: 1.53s\n",
      "98:\tlearn: 0.3676002\ttotal: 167ms\tremaining: 1.52s\n",
      "99:\tlearn: 0.3662446\ttotal: 168ms\tremaining: 1.51s\n",
      "100:\tlearn: 0.3650128\ttotal: 168ms\tremaining: 1.5s\n",
      "101:\tlearn: 0.3635256\ttotal: 169ms\tremaining: 1.49s\n",
      "102:\tlearn: 0.3623207\ttotal: 170ms\tremaining: 1.48s\n",
      "103:\tlearn: 0.3614056\ttotal: 171ms\tremaining: 1.47s\n",
      "104:\tlearn: 0.3602402\ttotal: 172ms\tremaining: 1.47s\n",
      "105:\tlearn: 0.3590018\ttotal: 173ms\tremaining: 1.46s\n",
      "106:\tlearn: 0.3577929\ttotal: 174ms\tremaining: 1.45s\n",
      "107:\tlearn: 0.3565020\ttotal: 174ms\tremaining: 1.44s\n",
      "108:\tlearn: 0.3553293\ttotal: 175ms\tremaining: 1.43s\n",
      "109:\tlearn: 0.3540305\ttotal: 176ms\tremaining: 1.42s\n",
      "110:\tlearn: 0.3527776\ttotal: 177ms\tremaining: 1.42s\n",
      "111:\tlearn: 0.3512576\ttotal: 178ms\tremaining: 1.41s\n",
      "112:\tlearn: 0.3500405\ttotal: 179ms\tremaining: 1.4s\n",
      "113:\tlearn: 0.3487060\ttotal: 180ms\tremaining: 1.4s\n",
      "114:\tlearn: 0.3476367\ttotal: 182ms\tremaining: 1.4s\n",
      "115:\tlearn: 0.3464812\ttotal: 185ms\tremaining: 1.41s\n",
      "116:\tlearn: 0.3452825\ttotal: 186ms\tremaining: 1.4s\n",
      "117:\tlearn: 0.3440641\ttotal: 187ms\tremaining: 1.39s\n",
      "118:\tlearn: 0.3431273\ttotal: 188ms\tremaining: 1.39s\n",
      "119:\tlearn: 0.3418441\ttotal: 189ms\tremaining: 1.38s\n",
      "120:\tlearn: 0.3408621\ttotal: 190ms\tremaining: 1.38s\n",
      "121:\tlearn: 0.3397230\ttotal: 190ms\tremaining: 1.37s\n",
      "122:\tlearn: 0.3385580\ttotal: 191ms\tremaining: 1.36s\n",
      "123:\tlearn: 0.3378618\ttotal: 192ms\tremaining: 1.36s\n",
      "124:\tlearn: 0.3367603\ttotal: 193ms\tremaining: 1.35s\n",
      "125:\tlearn: 0.3355679\ttotal: 194ms\tremaining: 1.35s\n",
      "126:\tlearn: 0.3347174\ttotal: 195ms\tremaining: 1.34s\n",
      "127:\tlearn: 0.3335755\ttotal: 196ms\tremaining: 1.34s\n",
      "128:\tlearn: 0.3328681\ttotal: 197ms\tremaining: 1.33s\n",
      "129:\tlearn: 0.3315885\ttotal: 203ms\tremaining: 1.36s\n",
      "130:\tlearn: 0.3305300\ttotal: 206ms\tremaining: 1.36s\n",
      "131:\tlearn: 0.3296365\ttotal: 208ms\tremaining: 1.37s\n",
      "132:\tlearn: 0.3287072\ttotal: 210ms\tremaining: 1.37s\n",
      "133:\tlearn: 0.3277256\ttotal: 211ms\tremaining: 1.36s\n",
      "134:\tlearn: 0.3265222\ttotal: 212ms\tremaining: 1.36s\n",
      "135:\tlearn: 0.3257477\ttotal: 214ms\tremaining: 1.36s\n",
      "136:\tlearn: 0.3249731\ttotal: 215ms\tremaining: 1.35s\n",
      "137:\tlearn: 0.3237889\ttotal: 216ms\tremaining: 1.35s\n",
      "138:\tlearn: 0.3230367\ttotal: 217ms\tremaining: 1.34s\n",
      "139:\tlearn: 0.3221805\ttotal: 218ms\tremaining: 1.34s\n",
      "140:\tlearn: 0.3214194\ttotal: 219ms\tremaining: 1.34s\n",
      "141:\tlearn: 0.3205483\ttotal: 220ms\tremaining: 1.33s\n",
      "142:\tlearn: 0.3197266\ttotal: 221ms\tremaining: 1.33s\n",
      "143:\tlearn: 0.3187258\ttotal: 223ms\tremaining: 1.32s\n",
      "144:\tlearn: 0.3179888\ttotal: 224ms\tremaining: 1.32s\n",
      "145:\tlearn: 0.3168361\ttotal: 225ms\tremaining: 1.31s\n",
      "146:\tlearn: 0.3161892\ttotal: 226ms\tremaining: 1.31s\n",
      "147:\tlearn: 0.3155027\ttotal: 227ms\tremaining: 1.3s\n",
      "148:\tlearn: 0.3146127\ttotal: 228ms\tremaining: 1.3s\n",
      "149:\tlearn: 0.3138529\ttotal: 229ms\tremaining: 1.3s\n",
      "150:\tlearn: 0.3131305\ttotal: 230ms\tremaining: 1.29s\n",
      "151:\tlearn: 0.3121889\ttotal: 231ms\tremaining: 1.29s\n",
      "152:\tlearn: 0.3112583\ttotal: 232ms\tremaining: 1.28s\n",
      "153:\tlearn: 0.3104400\ttotal: 233ms\tremaining: 1.28s\n",
      "154:\tlearn: 0.3097168\ttotal: 239ms\tremaining: 1.3s\n",
      "155:\tlearn: 0.3089847\ttotal: 241ms\tremaining: 1.3s\n",
      "156:\tlearn: 0.3083065\ttotal: 242ms\tremaining: 1.3s\n",
      "157:\tlearn: 0.3076114\ttotal: 243ms\tremaining: 1.3s\n",
      "158:\tlearn: 0.3068741\ttotal: 244ms\tremaining: 1.29s\n",
      "159:\tlearn: 0.3062535\ttotal: 245ms\tremaining: 1.29s\n",
      "160:\tlearn: 0.3056792\ttotal: 246ms\tremaining: 1.28s\n",
      "161:\tlearn: 0.3049066\ttotal: 247ms\tremaining: 1.28s\n",
      "162:\tlearn: 0.3042780\ttotal: 248ms\tremaining: 1.27s\n",
      "163:\tlearn: 0.3036902\ttotal: 248ms\tremaining: 1.27s\n",
      "164:\tlearn: 0.3030022\ttotal: 249ms\tremaining: 1.26s\n",
      "165:\tlearn: 0.3023571\ttotal: 250ms\tremaining: 1.26s\n",
      "166:\tlearn: 0.3015685\ttotal: 251ms\tremaining: 1.25s\n",
      "167:\tlearn: 0.3009148\ttotal: 252ms\tremaining: 1.25s\n",
      "168:\tlearn: 0.3004246\ttotal: 253ms\tremaining: 1.24s\n",
      "169:\tlearn: 0.2996690\ttotal: 253ms\tremaining: 1.24s\n",
      "170:\tlearn: 0.2989036\ttotal: 254ms\tremaining: 1.23s\n",
      "171:\tlearn: 0.2982687\ttotal: 255ms\tremaining: 1.23s\n",
      "172:\tlearn: 0.2979310\ttotal: 256ms\tremaining: 1.22s\n",
      "173:\tlearn: 0.2973661\ttotal: 258ms\tremaining: 1.22s\n",
      "174:\tlearn: 0.2967802\ttotal: 259ms\tremaining: 1.22s\n",
      "175:\tlearn: 0.2961338\ttotal: 260ms\tremaining: 1.22s\n",
      "176:\tlearn: 0.2958531\ttotal: 261ms\tremaining: 1.21s\n",
      "177:\tlearn: 0.2950873\ttotal: 262ms\tremaining: 1.21s\n",
      "178:\tlearn: 0.2943038\ttotal: 263ms\tremaining: 1.21s\n",
      "179:\tlearn: 0.2934723\ttotal: 264ms\tremaining: 1.2s\n",
      "180:\tlearn: 0.2926875\ttotal: 265ms\tremaining: 1.2s\n",
      "181:\tlearn: 0.2920191\ttotal: 265ms\tremaining: 1.19s\n",
      "182:\tlearn: 0.2913406\ttotal: 266ms\tremaining: 1.19s\n",
      "183:\tlearn: 0.2907657\ttotal: 267ms\tremaining: 1.18s\n",
      "184:\tlearn: 0.2902818\ttotal: 268ms\tremaining: 1.18s\n",
      "185:\tlearn: 0.2896598\ttotal: 269ms\tremaining: 1.18s\n",
      "186:\tlearn: 0.2891970\ttotal: 269ms\tremaining: 1.17s\n",
      "187:\tlearn: 0.2885733\ttotal: 270ms\tremaining: 1.17s\n",
      "188:\tlearn: 0.2874766\ttotal: 271ms\tremaining: 1.16s\n",
      "189:\tlearn: 0.2869830\ttotal: 272ms\tremaining: 1.16s\n",
      "190:\tlearn: 0.2863244\ttotal: 273ms\tremaining: 1.16s\n",
      "191:\tlearn: 0.2856398\ttotal: 274ms\tremaining: 1.15s\n",
      "192:\tlearn: 0.2849880\ttotal: 274ms\tremaining: 1.15s\n",
      "193:\tlearn: 0.2842222\ttotal: 276ms\tremaining: 1.14s\n",
      "194:\tlearn: 0.2836236\ttotal: 276ms\tremaining: 1.14s\n",
      "195:\tlearn: 0.2831211\ttotal: 277ms\tremaining: 1.14s\n",
      "196:\tlearn: 0.2824565\ttotal: 278ms\tremaining: 1.13s\n",
      "197:\tlearn: 0.2820773\ttotal: 279ms\tremaining: 1.13s\n",
      "198:\tlearn: 0.2813744\ttotal: 280ms\tremaining: 1.13s\n",
      "199:\tlearn: 0.2808125\ttotal: 281ms\tremaining: 1.12s\n",
      "200:\tlearn: 0.2803524\ttotal: 282ms\tremaining: 1.12s\n",
      "201:\tlearn: 0.2798864\ttotal: 283ms\tremaining: 1.12s\n",
      "202:\tlearn: 0.2794083\ttotal: 284ms\tremaining: 1.11s\n",
      "203:\tlearn: 0.2787924\ttotal: 285ms\tremaining: 1.11s\n",
      "204:\tlearn: 0.2781872\ttotal: 285ms\tremaining: 1.11s\n",
      "205:\tlearn: 0.2775997\ttotal: 286ms\tremaining: 1.1s\n",
      "206:\tlearn: 0.2770753\ttotal: 287ms\tremaining: 1.1s\n",
      "207:\tlearn: 0.2766208\ttotal: 288ms\tremaining: 1.1s\n",
      "208:\tlearn: 0.2763178\ttotal: 289ms\tremaining: 1.09s\n",
      "209:\tlearn: 0.2758797\ttotal: 290ms\tremaining: 1.09s\n",
      "210:\tlearn: 0.2753841\ttotal: 291ms\tremaining: 1.09s\n",
      "211:\tlearn: 0.2748917\ttotal: 291ms\tremaining: 1.08s\n",
      "212:\tlearn: 0.2746761\ttotal: 292ms\tremaining: 1.08s\n",
      "213:\tlearn: 0.2740026\ttotal: 293ms\tremaining: 1.08s\n",
      "214:\tlearn: 0.2735883\ttotal: 294ms\tremaining: 1.07s\n",
      "215:\tlearn: 0.2731398\ttotal: 295ms\tremaining: 1.07s\n",
      "216:\tlearn: 0.2725352\ttotal: 296ms\tremaining: 1.07s\n",
      "217:\tlearn: 0.2718672\ttotal: 297ms\tremaining: 1.06s\n",
      "218:\tlearn: 0.2713232\ttotal: 298ms\tremaining: 1.06s\n",
      "219:\tlearn: 0.2708535\ttotal: 299ms\tremaining: 1.06s\n",
      "220:\tlearn: 0.2702636\ttotal: 300ms\tremaining: 1.06s\n",
      "221:\tlearn: 0.2700268\ttotal: 301ms\tremaining: 1.05s\n",
      "222:\tlearn: 0.2695287\ttotal: 302ms\tremaining: 1.05s\n",
      "223:\tlearn: 0.2691828\ttotal: 303ms\tremaining: 1.05s\n",
      "224:\tlearn: 0.2688519\ttotal: 303ms\tremaining: 1.04s\n",
      "225:\tlearn: 0.2681640\ttotal: 304ms\tremaining: 1.04s\n",
      "226:\tlearn: 0.2676943\ttotal: 305ms\tremaining: 1.04s\n",
      "227:\tlearn: 0.2671621\ttotal: 306ms\tremaining: 1.03s\n",
      "228:\tlearn: 0.2668330\ttotal: 307ms\tremaining: 1.03s\n",
      "229:\tlearn: 0.2664294\ttotal: 307ms\tremaining: 1.03s\n",
      "230:\tlearn: 0.2658151\ttotal: 308ms\tremaining: 1.03s\n",
      "231:\tlearn: 0.2653732\ttotal: 309ms\tremaining: 1.02s\n",
      "232:\tlearn: 0.2649616\ttotal: 310ms\tremaining: 1.02s\n",
      "233:\tlearn: 0.2646534\ttotal: 311ms\tremaining: 1.02s\n",
      "234:\tlearn: 0.2640836\ttotal: 312ms\tremaining: 1.01s\n",
      "235:\tlearn: 0.2636096\ttotal: 313ms\tremaining: 1.01s\n",
      "236:\tlearn: 0.2632605\ttotal: 314ms\tremaining: 1.01s\n",
      "237:\tlearn: 0.2627147\ttotal: 315ms\tremaining: 1.01s\n",
      "238:\tlearn: 0.2620491\ttotal: 315ms\tremaining: 1s\n",
      "239:\tlearn: 0.2613751\ttotal: 316ms\tremaining: 1s\n",
      "240:\tlearn: 0.2609813\ttotal: 317ms\tremaining: 999ms\n",
      "241:\tlearn: 0.2604494\ttotal: 318ms\tremaining: 996ms\n",
      "242:\tlearn: 0.2600868\ttotal: 319ms\tremaining: 993ms\n",
      "243:\tlearn: 0.2597008\ttotal: 320ms\tremaining: 991ms\n",
      "244:\tlearn: 0.2593662\ttotal: 321ms\tremaining: 989ms\n",
      "245:\tlearn: 0.2588929\ttotal: 322ms\tremaining: 986ms\n",
      "246:\tlearn: 0.2582645\ttotal: 323ms\tremaining: 984ms\n",
      "247:\tlearn: 0.2578394\ttotal: 324ms\tremaining: 982ms\n",
      "248:\tlearn: 0.2578274\ttotal: 324ms\tremaining: 978ms\n",
      "249:\tlearn: 0.2572939\ttotal: 325ms\tremaining: 976ms\n",
      "250:\tlearn: 0.2566511\ttotal: 326ms\tremaining: 973ms\n",
      "251:\tlearn: 0.2562081\ttotal: 327ms\tremaining: 970ms\n",
      "252:\tlearn: 0.2557402\ttotal: 328ms\tremaining: 968ms\n",
      "253:\tlearn: 0.2552747\ttotal: 329ms\tremaining: 965ms\n",
      "254:\tlearn: 0.2548724\ttotal: 329ms\tremaining: 963ms\n",
      "255:\tlearn: 0.2545523\ttotal: 330ms\tremaining: 960ms\n",
      "256:\tlearn: 0.2541967\ttotal: 331ms\tremaining: 957ms\n",
      "257:\tlearn: 0.2536840\ttotal: 332ms\tremaining: 955ms\n",
      "258:\tlearn: 0.2531389\ttotal: 333ms\tremaining: 953ms\n",
      "259:\tlearn: 0.2528199\ttotal: 334ms\tremaining: 950ms\n",
      "260:\tlearn: 0.2525527\ttotal: 335ms\tremaining: 948ms\n",
      "261:\tlearn: 0.2521795\ttotal: 336ms\tremaining: 945ms\n",
      "262:\tlearn: 0.2517598\ttotal: 336ms\tremaining: 942ms\n",
      "263:\tlearn: 0.2512804\ttotal: 337ms\tremaining: 940ms\n",
      "264:\tlearn: 0.2510630\ttotal: 338ms\tremaining: 937ms\n",
      "265:\tlearn: 0.2506411\ttotal: 339ms\tremaining: 935ms\n",
      "266:\tlearn: 0.2501832\ttotal: 340ms\tremaining: 932ms\n",
      "267:\tlearn: 0.2497476\ttotal: 340ms\tremaining: 930ms\n",
      "268:\tlearn: 0.2490761\ttotal: 341ms\tremaining: 927ms\n",
      "269:\tlearn: 0.2486744\ttotal: 342ms\tremaining: 925ms\n",
      "270:\tlearn: 0.2481510\ttotal: 343ms\tremaining: 923ms\n",
      "271:\tlearn: 0.2477428\ttotal: 344ms\tremaining: 920ms\n",
      "272:\tlearn: 0.2472507\ttotal: 345ms\tremaining: 918ms\n",
      "273:\tlearn: 0.2467314\ttotal: 346ms\tremaining: 916ms\n",
      "274:\tlearn: 0.2463149\ttotal: 346ms\tremaining: 913ms\n",
      "275:\tlearn: 0.2461646\ttotal: 347ms\tremaining: 911ms\n",
      "276:\tlearn: 0.2457784\ttotal: 348ms\tremaining: 909ms\n",
      "277:\tlearn: 0.2454854\ttotal: 349ms\tremaining: 906ms\n",
      "278:\tlearn: 0.2451509\ttotal: 350ms\tremaining: 904ms\n",
      "279:\tlearn: 0.2448102\ttotal: 351ms\tremaining: 902ms\n",
      "280:\tlearn: 0.2443266\ttotal: 351ms\tremaining: 899ms\n",
      "281:\tlearn: 0.2439087\ttotal: 352ms\tremaining: 897ms\n",
      "282:\tlearn: 0.2436332\ttotal: 353ms\tremaining: 895ms\n",
      "283:\tlearn: 0.2434115\ttotal: 354ms\tremaining: 892ms\n",
      "284:\tlearn: 0.2432339\ttotal: 355ms\tremaining: 890ms\n",
      "285:\tlearn: 0.2430622\ttotal: 355ms\tremaining: 887ms\n",
      "286:\tlearn: 0.2427595\ttotal: 356ms\tremaining: 885ms\n",
      "287:\tlearn: 0.2424214\ttotal: 357ms\tremaining: 883ms\n",
      "288:\tlearn: 0.2421422\ttotal: 358ms\tremaining: 881ms\n",
      "289:\tlearn: 0.2418269\ttotal: 359ms\tremaining: 879ms\n",
      "290:\tlearn: 0.2415368\ttotal: 360ms\tremaining: 877ms\n",
      "291:\tlearn: 0.2413398\ttotal: 361ms\tremaining: 875ms\n",
      "292:\tlearn: 0.2411643\ttotal: 362ms\tremaining: 872ms\n",
      "293:\tlearn: 0.2409422\ttotal: 362ms\tremaining: 870ms\n",
      "294:\tlearn: 0.2406473\ttotal: 363ms\tremaining: 868ms\n",
      "295:\tlearn: 0.2402653\ttotal: 364ms\tremaining: 866ms\n",
      "296:\tlearn: 0.2398148\ttotal: 365ms\tremaining: 864ms\n"
     ]
    },
    {
     "name": "stdout",
     "output_type": "stream",
     "text": [
      "297:\tlearn: 0.2393274\ttotal: 367ms\tremaining: 864ms\n",
      "298:\tlearn: 0.2388977\ttotal: 368ms\tremaining: 863ms\n",
      "299:\tlearn: 0.2386456\ttotal: 369ms\tremaining: 861ms\n",
      "300:\tlearn: 0.2384269\ttotal: 370ms\tremaining: 860ms\n",
      "301:\tlearn: 0.2378984\ttotal: 371ms\tremaining: 858ms\n",
      "302:\tlearn: 0.2375821\ttotal: 372ms\tremaining: 856ms\n",
      "303:\tlearn: 0.2374450\ttotal: 373ms\tremaining: 854ms\n",
      "304:\tlearn: 0.2370628\ttotal: 374ms\tremaining: 852ms\n",
      "305:\tlearn: 0.2366618\ttotal: 375ms\tremaining: 850ms\n",
      "306:\tlearn: 0.2364220\ttotal: 376ms\tremaining: 848ms\n",
      "307:\tlearn: 0.2359298\ttotal: 377ms\tremaining: 846ms\n",
      "308:\tlearn: 0.2356681\ttotal: 377ms\tremaining: 844ms\n",
      "309:\tlearn: 0.2353728\ttotal: 379ms\tremaining: 843ms\n",
      "310:\tlearn: 0.2350906\ttotal: 380ms\tremaining: 841ms\n",
      "311:\tlearn: 0.2347203\ttotal: 381ms\tremaining: 840ms\n",
      "312:\tlearn: 0.2342572\ttotal: 382ms\tremaining: 838ms\n",
      "313:\tlearn: 0.2338459\ttotal: 383ms\tremaining: 837ms\n",
      "314:\tlearn: 0.2335208\ttotal: 384ms\tremaining: 835ms\n",
      "315:\tlearn: 0.2332555\ttotal: 385ms\tremaining: 833ms\n",
      "316:\tlearn: 0.2329087\ttotal: 386ms\tremaining: 831ms\n",
      "317:\tlearn: 0.2327112\ttotal: 387ms\tremaining: 829ms\n",
      "318:\tlearn: 0.2324096\ttotal: 388ms\tremaining: 828ms\n",
      "319:\tlearn: 0.2319455\ttotal: 389ms\tremaining: 826ms\n",
      "320:\tlearn: 0.2317423\ttotal: 390ms\tremaining: 824ms\n",
      "321:\tlearn: 0.2312484\ttotal: 390ms\tremaining: 822ms\n",
      "322:\tlearn: 0.2309489\ttotal: 391ms\tremaining: 820ms\n",
      "323:\tlearn: 0.2306731\ttotal: 392ms\tremaining: 818ms\n",
      "324:\tlearn: 0.2306349\ttotal: 393ms\tremaining: 816ms\n",
      "325:\tlearn: 0.2302886\ttotal: 396ms\tremaining: 818ms\n",
      "326:\tlearn: 0.2300729\ttotal: 398ms\tremaining: 818ms\n",
      "327:\tlearn: 0.2296240\ttotal: 399ms\tremaining: 817ms\n",
      "328:\tlearn: 0.2293813\ttotal: 399ms\tremaining: 815ms\n",
      "329:\tlearn: 0.2290511\ttotal: 400ms\tremaining: 813ms\n",
      "330:\tlearn: 0.2287713\ttotal: 401ms\tremaining: 810ms\n",
      "331:\tlearn: 0.2284553\ttotal: 402ms\tremaining: 808ms\n",
      "332:\tlearn: 0.2281795\ttotal: 403ms\tremaining: 806ms\n",
      "333:\tlearn: 0.2277780\ttotal: 403ms\tremaining: 804ms\n",
      "334:\tlearn: 0.2272616\ttotal: 405ms\tremaining: 803ms\n",
      "335:\tlearn: 0.2270482\ttotal: 405ms\tremaining: 801ms\n",
      "336:\tlearn: 0.2267480\ttotal: 406ms\tremaining: 799ms\n",
      "337:\tlearn: 0.2264709\ttotal: 407ms\tremaining: 797ms\n",
      "338:\tlearn: 0.2263141\ttotal: 408ms\tremaining: 795ms\n",
      "339:\tlearn: 0.2259416\ttotal: 409ms\tremaining: 793ms\n",
      "340:\tlearn: 0.2258378\ttotal: 410ms\tremaining: 792ms\n",
      "341:\tlearn: 0.2252957\ttotal: 412ms\tremaining: 792ms\n",
      "342:\tlearn: 0.2249655\ttotal: 413ms\tremaining: 790ms\n",
      "343:\tlearn: 0.2246752\ttotal: 414ms\tremaining: 790ms\n",
      "344:\tlearn: 0.2245385\ttotal: 415ms\tremaining: 788ms\n",
      "345:\tlearn: 0.2244596\ttotal: 416ms\tremaining: 786ms\n",
      "346:\tlearn: 0.2243783\ttotal: 416ms\tremaining: 784ms\n",
      "347:\tlearn: 0.2240205\ttotal: 417ms\tremaining: 782ms\n",
      "348:\tlearn: 0.2239042\ttotal: 418ms\tremaining: 780ms\n",
      "349:\tlearn: 0.2236909\ttotal: 419ms\tremaining: 778ms\n",
      "350:\tlearn: 0.2235289\ttotal: 420ms\tremaining: 776ms\n",
      "351:\tlearn: 0.2231882\ttotal: 421ms\tremaining: 774ms\n",
      "352:\tlearn: 0.2229774\ttotal: 421ms\tremaining: 772ms\n",
      "353:\tlearn: 0.2227570\ttotal: 422ms\tremaining: 771ms\n",
      "354:\tlearn: 0.2225758\ttotal: 423ms\tremaining: 769ms\n",
      "355:\tlearn: 0.2221249\ttotal: 424ms\tremaining: 767ms\n",
      "356:\tlearn: 0.2218139\ttotal: 425ms\tremaining: 766ms\n",
      "357:\tlearn: 0.2216051\ttotal: 426ms\tremaining: 764ms\n",
      "358:\tlearn: 0.2213499\ttotal: 427ms\tremaining: 762ms\n",
      "359:\tlearn: 0.2212462\ttotal: 428ms\tremaining: 760ms\n",
      "360:\tlearn: 0.2210534\ttotal: 428ms\tremaining: 758ms\n",
      "361:\tlearn: 0.2209171\ttotal: 429ms\tremaining: 757ms\n",
      "362:\tlearn: 0.2207471\ttotal: 430ms\tremaining: 755ms\n",
      "363:\tlearn: 0.2205537\ttotal: 431ms\tremaining: 753ms\n",
      "364:\tlearn: 0.2201756\ttotal: 432ms\tremaining: 752ms\n",
      "365:\tlearn: 0.2200286\ttotal: 433ms\tremaining: 751ms\n",
      "366:\tlearn: 0.2198055\ttotal: 434ms\tremaining: 749ms\n",
      "367:\tlearn: 0.2193188\ttotal: 435ms\tremaining: 748ms\n",
      "368:\tlearn: 0.2192268\ttotal: 436ms\tremaining: 746ms\n",
      "369:\tlearn: 0.2190064\ttotal: 437ms\tremaining: 744ms\n",
      "370:\tlearn: 0.2187313\ttotal: 438ms\tremaining: 742ms\n",
      "371:\tlearn: 0.2185032\ttotal: 439ms\tremaining: 741ms\n",
      "372:\tlearn: 0.2183253\ttotal: 440ms\tremaining: 739ms\n",
      "373:\tlearn: 0.2181556\ttotal: 441ms\tremaining: 737ms\n",
      "374:\tlearn: 0.2179888\ttotal: 441ms\tremaining: 736ms\n",
      "375:\tlearn: 0.2179161\ttotal: 442ms\tremaining: 734ms\n",
      "376:\tlearn: 0.2176947\ttotal: 443ms\tremaining: 733ms\n",
      "377:\tlearn: 0.2173783\ttotal: 444ms\tremaining: 731ms\n",
      "378:\tlearn: 0.2170153\ttotal: 445ms\tremaining: 729ms\n",
      "379:\tlearn: 0.2168487\ttotal: 446ms\tremaining: 728ms\n",
      "380:\tlearn: 0.2166239\ttotal: 447ms\tremaining: 726ms\n",
      "381:\tlearn: 0.2160733\ttotal: 448ms\tremaining: 725ms\n",
      "382:\tlearn: 0.2156940\ttotal: 449ms\tremaining: 723ms\n",
      "383:\tlearn: 0.2154881\ttotal: 450ms\tremaining: 721ms\n",
      "384:\tlearn: 0.2151588\ttotal: 451ms\tremaining: 720ms\n",
      "385:\tlearn: 0.2150479\ttotal: 452ms\tremaining: 718ms\n",
      "386:\tlearn: 0.2146482\ttotal: 452ms\tremaining: 717ms\n",
      "387:\tlearn: 0.2143697\ttotal: 453ms\tremaining: 715ms\n",
      "388:\tlearn: 0.2139938\ttotal: 454ms\tremaining: 714ms\n",
      "389:\tlearn: 0.2137976\ttotal: 455ms\tremaining: 712ms\n",
      "390:\tlearn: 0.2136135\ttotal: 456ms\tremaining: 711ms\n",
      "391:\tlearn: 0.2132904\ttotal: 457ms\tremaining: 709ms\n",
      "392:\tlearn: 0.2130470\ttotal: 458ms\tremaining: 707ms\n",
      "393:\tlearn: 0.2130232\ttotal: 459ms\tremaining: 705ms\n",
      "394:\tlearn: 0.2127331\ttotal: 460ms\tremaining: 704ms\n",
      "395:\tlearn: 0.2126204\ttotal: 461ms\tremaining: 703ms\n",
      "396:\tlearn: 0.2124565\ttotal: 462ms\tremaining: 702ms\n",
      "397:\tlearn: 0.2121854\ttotal: 463ms\tremaining: 700ms\n",
      "398:\tlearn: 0.2119846\ttotal: 464ms\tremaining: 699ms\n",
      "399:\tlearn: 0.2117644\ttotal: 465ms\tremaining: 697ms\n",
      "400:\tlearn: 0.2113837\ttotal: 466ms\tremaining: 696ms\n",
      "401:\tlearn: 0.2112928\ttotal: 467ms\tremaining: 694ms\n",
      "402:\tlearn: 0.2112661\ttotal: 467ms\tremaining: 692ms\n",
      "403:\tlearn: 0.2110454\ttotal: 468ms\tremaining: 690ms\n",
      "404:\tlearn: 0.2108674\ttotal: 469ms\tremaining: 689ms\n",
      "405:\tlearn: 0.2106413\ttotal: 470ms\tremaining: 688ms\n",
      "406:\tlearn: 0.2103250\ttotal: 471ms\tremaining: 686ms\n",
      "407:\tlearn: 0.2100850\ttotal: 472ms\tremaining: 685ms\n",
      "408:\tlearn: 0.2098359\ttotal: 473ms\tremaining: 684ms\n",
      "409:\tlearn: 0.2096135\ttotal: 474ms\tremaining: 682ms\n",
      "410:\tlearn: 0.2095195\ttotal: 475ms\tremaining: 681ms\n",
      "411:\tlearn: 0.2091155\ttotal: 476ms\tremaining: 679ms\n",
      "412:\tlearn: 0.2087447\ttotal: 477ms\tremaining: 678ms\n",
      "413:\tlearn: 0.2085460\ttotal: 478ms\tremaining: 677ms\n",
      "414:\tlearn: 0.2081885\ttotal: 479ms\tremaining: 675ms\n",
      "415:\tlearn: 0.2080404\ttotal: 480ms\tremaining: 674ms\n",
      "416:\tlearn: 0.2077790\ttotal: 481ms\tremaining: 672ms\n",
      "417:\tlearn: 0.2075585\ttotal: 482ms\tremaining: 671ms\n",
      "418:\tlearn: 0.2072609\ttotal: 483ms\tremaining: 670ms\n",
      "419:\tlearn: 0.2070248\ttotal: 484ms\tremaining: 669ms\n",
      "420:\tlearn: 0.2068953\ttotal: 485ms\tremaining: 667ms\n",
      "421:\tlearn: 0.2066976\ttotal: 486ms\tremaining: 666ms\n",
      "422:\tlearn: 0.2063001\ttotal: 488ms\tremaining: 665ms\n",
      "423:\tlearn: 0.2059916\ttotal: 489ms\tremaining: 664ms\n",
      "424:\tlearn: 0.2058753\ttotal: 490ms\tremaining: 662ms\n",
      "425:\tlearn: 0.2057188\ttotal: 491ms\tremaining: 661ms\n",
      "426:\tlearn: 0.2054646\ttotal: 492ms\tremaining: 660ms\n",
      "427:\tlearn: 0.2050985\ttotal: 493ms\tremaining: 659ms\n",
      "428:\tlearn: 0.2048833\ttotal: 494ms\tremaining: 658ms\n",
      "429:\tlearn: 0.2045666\ttotal: 495ms\tremaining: 656ms\n",
      "430:\tlearn: 0.2043063\ttotal: 496ms\tremaining: 655ms\n",
      "431:\tlearn: 0.2039584\ttotal: 497ms\tremaining: 654ms\n",
      "432:\tlearn: 0.2038266\ttotal: 498ms\tremaining: 653ms\n",
      "433:\tlearn: 0.2036238\ttotal: 499ms\tremaining: 651ms\n",
      "434:\tlearn: 0.2034962\ttotal: 500ms\tremaining: 650ms\n",
      "435:\tlearn: 0.2032885\ttotal: 502ms\tremaining: 649ms\n",
      "436:\tlearn: 0.2029605\ttotal: 503ms\tremaining: 648ms\n",
      "437:\tlearn: 0.2027215\ttotal: 504ms\tremaining: 646ms\n",
      "438:\tlearn: 0.2025745\ttotal: 505ms\tremaining: 645ms\n",
      "439:\tlearn: 0.2023765\ttotal: 507ms\tremaining: 645ms\n",
      "440:\tlearn: 0.2020834\ttotal: 514ms\tremaining: 651ms\n",
      "441:\tlearn: 0.2019940\ttotal: 518ms\tremaining: 654ms\n",
      "442:\tlearn: 0.2017065\ttotal: 520ms\tremaining: 653ms\n",
      "443:\tlearn: 0.2015084\ttotal: 521ms\tremaining: 653ms\n",
      "444:\tlearn: 0.2013782\ttotal: 522ms\tremaining: 651ms\n",
      "445:\tlearn: 0.2012157\ttotal: 523ms\tremaining: 650ms\n",
      "446:\tlearn: 0.2010304\ttotal: 524ms\tremaining: 648ms\n",
      "447:\tlearn: 0.2006808\ttotal: 525ms\tremaining: 647ms\n",
      "448:\tlearn: 0.2005481\ttotal: 526ms\tremaining: 645ms\n",
      "449:\tlearn: 0.2003770\ttotal: 527ms\tremaining: 644ms\n",
      "450:\tlearn: 0.2000353\ttotal: 528ms\tremaining: 642ms\n",
      "451:\tlearn: 0.1998090\ttotal: 529ms\tremaining: 641ms\n",
      "452:\tlearn: 0.1993878\ttotal: 529ms\tremaining: 639ms\n",
      "453:\tlearn: 0.1993197\ttotal: 530ms\tremaining: 638ms\n",
      "454:\tlearn: 0.1991978\ttotal: 531ms\tremaining: 636ms\n",
      "455:\tlearn: 0.1988897\ttotal: 532ms\tremaining: 635ms\n",
      "456:\tlearn: 0.1987603\ttotal: 533ms\tremaining: 633ms\n",
      "457:\tlearn: 0.1982906\ttotal: 534ms\tremaining: 632ms\n",
      "458:\tlearn: 0.1980944\ttotal: 534ms\tremaining: 630ms\n",
      "459:\tlearn: 0.1977728\ttotal: 535ms\tremaining: 628ms\n",
      "460:\tlearn: 0.1975214\ttotal: 536ms\tremaining: 627ms\n",
      "461:\tlearn: 0.1974283\ttotal: 537ms\tremaining: 625ms\n",
      "462:\tlearn: 0.1972596\ttotal: 538ms\tremaining: 624ms\n",
      "463:\tlearn: 0.1970399\ttotal: 539ms\tremaining: 622ms\n",
      "464:\tlearn: 0.1967973\ttotal: 540ms\tremaining: 621ms\n",
      "465:\tlearn: 0.1965984\ttotal: 540ms\tremaining: 619ms\n",
      "466:\tlearn: 0.1964630\ttotal: 541ms\tremaining: 618ms\n",
      "467:\tlearn: 0.1963196\ttotal: 542ms\tremaining: 616ms\n",
      "468:\tlearn: 0.1961359\ttotal: 543ms\tremaining: 615ms\n",
      "469:\tlearn: 0.1958538\ttotal: 544ms\tremaining: 613ms\n",
      "470:\tlearn: 0.1957974\ttotal: 544ms\tremaining: 611ms\n",
      "471:\tlearn: 0.1955085\ttotal: 545ms\tremaining: 610ms\n",
      "472:\tlearn: 0.1952448\ttotal: 546ms\tremaining: 609ms\n",
      "473:\tlearn: 0.1951262\ttotal: 547ms\tremaining: 607ms\n",
      "474:\tlearn: 0.1949591\ttotal: 548ms\tremaining: 606ms\n",
      "475:\tlearn: 0.1947808\ttotal: 549ms\tremaining: 604ms\n",
      "476:\tlearn: 0.1946953\ttotal: 550ms\tremaining: 603ms\n",
      "477:\tlearn: 0.1945479\ttotal: 550ms\tremaining: 601ms\n"
     ]
    },
    {
     "name": "stdout",
     "output_type": "stream",
     "text": [
      "478:\tlearn: 0.1943163\ttotal: 552ms\tremaining: 601ms\n",
      "479:\tlearn: 0.1941980\ttotal: 559ms\tremaining: 605ms\n",
      "480:\tlearn: 0.1940272\ttotal: 560ms\tremaining: 604ms\n",
      "481:\tlearn: 0.1938244\ttotal: 561ms\tremaining: 603ms\n",
      "482:\tlearn: 0.1936242\ttotal: 562ms\tremaining: 602ms\n",
      "483:\tlearn: 0.1932861\ttotal: 563ms\tremaining: 601ms\n",
      "484:\tlearn: 0.1931867\ttotal: 564ms\tremaining: 599ms\n",
      "485:\tlearn: 0.1929659\ttotal: 565ms\tremaining: 598ms\n",
      "486:\tlearn: 0.1925965\ttotal: 566ms\tremaining: 597ms\n",
      "487:\tlearn: 0.1922850\ttotal: 567ms\tremaining: 595ms\n",
      "488:\tlearn: 0.1921815\ttotal: 568ms\tremaining: 594ms\n",
      "489:\tlearn: 0.1919753\ttotal: 570ms\tremaining: 593ms\n",
      "490:\tlearn: 0.1917986\ttotal: 571ms\tremaining: 592ms\n",
      "491:\tlearn: 0.1916221\ttotal: 573ms\tremaining: 591ms\n",
      "492:\tlearn: 0.1914051\ttotal: 573ms\tremaining: 590ms\n",
      "493:\tlearn: 0.1909884\ttotal: 574ms\tremaining: 588ms\n",
      "494:\tlearn: 0.1908527\ttotal: 575ms\tremaining: 587ms\n",
      "495:\tlearn: 0.1907519\ttotal: 576ms\tremaining: 585ms\n",
      "496:\tlearn: 0.1905584\ttotal: 577ms\tremaining: 584ms\n",
      "497:\tlearn: 0.1903661\ttotal: 578ms\tremaining: 583ms\n",
      "498:\tlearn: 0.1900916\ttotal: 580ms\tremaining: 582ms\n",
      "499:\tlearn: 0.1899537\ttotal: 581ms\tremaining: 581ms\n",
      "500:\tlearn: 0.1897903\ttotal: 582ms\tremaining: 580ms\n",
      "501:\tlearn: 0.1896719\ttotal: 583ms\tremaining: 578ms\n",
      "502:\tlearn: 0.1895239\ttotal: 584ms\tremaining: 577ms\n",
      "503:\tlearn: 0.1893312\ttotal: 585ms\tremaining: 575ms\n",
      "504:\tlearn: 0.1891770\ttotal: 586ms\tremaining: 574ms\n",
      "505:\tlearn: 0.1888403\ttotal: 586ms\tremaining: 573ms\n",
      "506:\tlearn: 0.1886263\ttotal: 587ms\tremaining: 571ms\n",
      "507:\tlearn: 0.1884483\ttotal: 588ms\tremaining: 570ms\n",
      "508:\tlearn: 0.1882800\ttotal: 589ms\tremaining: 568ms\n",
      "509:\tlearn: 0.1881422\ttotal: 590ms\tremaining: 567ms\n",
      "510:\tlearn: 0.1879811\ttotal: 591ms\tremaining: 565ms\n",
      "511:\tlearn: 0.1879134\ttotal: 591ms\tremaining: 564ms\n",
      "512:\tlearn: 0.1877021\ttotal: 593ms\tremaining: 563ms\n",
      "513:\tlearn: 0.1876611\ttotal: 593ms\tremaining: 561ms\n",
      "514:\tlearn: 0.1874663\ttotal: 594ms\tremaining: 560ms\n",
      "515:\tlearn: 0.1872894\ttotal: 595ms\tremaining: 558ms\n",
      "516:\tlearn: 0.1871771\ttotal: 596ms\tremaining: 557ms\n",
      "517:\tlearn: 0.1871271\ttotal: 597ms\tremaining: 555ms\n",
      "518:\tlearn: 0.1868471\ttotal: 598ms\tremaining: 554ms\n",
      "519:\tlearn: 0.1865576\ttotal: 599ms\tremaining: 553ms\n",
      "520:\tlearn: 0.1863510\ttotal: 600ms\tremaining: 551ms\n",
      "521:\tlearn: 0.1862457\ttotal: 600ms\tremaining: 550ms\n",
      "522:\tlearn: 0.1861183\ttotal: 601ms\tremaining: 548ms\n",
      "523:\tlearn: 0.1858420\ttotal: 602ms\tremaining: 547ms\n",
      "524:\tlearn: 0.1856452\ttotal: 603ms\tremaining: 545ms\n",
      "525:\tlearn: 0.1853407\ttotal: 604ms\tremaining: 544ms\n",
      "526:\tlearn: 0.1852189\ttotal: 605ms\tremaining: 543ms\n",
      "527:\tlearn: 0.1851670\ttotal: 605ms\tremaining: 541ms\n",
      "528:\tlearn: 0.1850723\ttotal: 606ms\tremaining: 540ms\n",
      "529:\tlearn: 0.1847231\ttotal: 607ms\tremaining: 538ms\n",
      "530:\tlearn: 0.1845053\ttotal: 608ms\tremaining: 537ms\n",
      "531:\tlearn: 0.1841172\ttotal: 609ms\tremaining: 536ms\n",
      "532:\tlearn: 0.1839876\ttotal: 610ms\tremaining: 534ms\n",
      "533:\tlearn: 0.1836320\ttotal: 610ms\tremaining: 533ms\n",
      "534:\tlearn: 0.1832146\ttotal: 611ms\tremaining: 531ms\n",
      "535:\tlearn: 0.1831090\ttotal: 612ms\tremaining: 530ms\n",
      "536:\tlearn: 0.1829789\ttotal: 613ms\tremaining: 529ms\n",
      "537:\tlearn: 0.1827658\ttotal: 614ms\tremaining: 527ms\n",
      "538:\tlearn: 0.1825849\ttotal: 615ms\tremaining: 526ms\n",
      "539:\tlearn: 0.1824505\ttotal: 616ms\tremaining: 525ms\n",
      "540:\tlearn: 0.1822528\ttotal: 617ms\tremaining: 523ms\n",
      "541:\tlearn: 0.1820056\ttotal: 618ms\tremaining: 522ms\n",
      "542:\tlearn: 0.1818241\ttotal: 619ms\tremaining: 521ms\n",
      "543:\tlearn: 0.1817427\ttotal: 620ms\tremaining: 519ms\n",
      "544:\tlearn: 0.1813806\ttotal: 621ms\tremaining: 518ms\n",
      "545:\tlearn: 0.1812538\ttotal: 621ms\tremaining: 517ms\n",
      "546:\tlearn: 0.1810469\ttotal: 622ms\tremaining: 515ms\n",
      "547:\tlearn: 0.1809038\ttotal: 623ms\tremaining: 514ms\n",
      "548:\tlearn: 0.1806451\ttotal: 624ms\tremaining: 513ms\n",
      "549:\tlearn: 0.1803763\ttotal: 625ms\tremaining: 511ms\n",
      "550:\tlearn: 0.1803122\ttotal: 626ms\tremaining: 510ms\n",
      "551:\tlearn: 0.1802546\ttotal: 626ms\tremaining: 508ms\n",
      "552:\tlearn: 0.1799855\ttotal: 627ms\tremaining: 507ms\n",
      "553:\tlearn: 0.1796893\ttotal: 628ms\tremaining: 506ms\n",
      "554:\tlearn: 0.1795786\ttotal: 629ms\tremaining: 505ms\n",
      "555:\tlearn: 0.1792587\ttotal: 630ms\tremaining: 503ms\n",
      "556:\tlearn: 0.1791333\ttotal: 631ms\tremaining: 502ms\n",
      "557:\tlearn: 0.1789300\ttotal: 632ms\tremaining: 501ms\n",
      "558:\tlearn: 0.1785418\ttotal: 633ms\tremaining: 499ms\n",
      "559:\tlearn: 0.1784960\ttotal: 634ms\tremaining: 498ms\n",
      "560:\tlearn: 0.1782713\ttotal: 634ms\tremaining: 496ms\n",
      "561:\tlearn: 0.1780598\ttotal: 635ms\tremaining: 495ms\n",
      "562:\tlearn: 0.1780368\ttotal: 636ms\tremaining: 494ms\n",
      "563:\tlearn: 0.1778294\ttotal: 637ms\tremaining: 492ms\n",
      "564:\tlearn: 0.1776866\ttotal: 638ms\tremaining: 491ms\n",
      "565:\tlearn: 0.1776237\ttotal: 639ms\tremaining: 490ms\n",
      "566:\tlearn: 0.1775270\ttotal: 640ms\tremaining: 488ms\n",
      "567:\tlearn: 0.1774502\ttotal: 640ms\tremaining: 487ms\n",
      "568:\tlearn: 0.1773462\ttotal: 641ms\tremaining: 486ms\n",
      "569:\tlearn: 0.1771971\ttotal: 642ms\tremaining: 485ms\n",
      "570:\tlearn: 0.1771544\ttotal: 643ms\tremaining: 483ms\n",
      "571:\tlearn: 0.1770756\ttotal: 644ms\tremaining: 482ms\n",
      "572:\tlearn: 0.1768843\ttotal: 645ms\tremaining: 481ms\n",
      "573:\tlearn: 0.1767458\ttotal: 646ms\tremaining: 480ms\n",
      "574:\tlearn: 0.1765430\ttotal: 647ms\tremaining: 478ms\n",
      "575:\tlearn: 0.1763436\ttotal: 648ms\tremaining: 477ms\n",
      "576:\tlearn: 0.1761421\ttotal: 649ms\tremaining: 475ms\n",
      "577:\tlearn: 0.1760499\ttotal: 649ms\tremaining: 474ms\n",
      "578:\tlearn: 0.1757733\ttotal: 650ms\tremaining: 473ms\n",
      "579:\tlearn: 0.1755708\ttotal: 651ms\tremaining: 471ms\n",
      "580:\tlearn: 0.1754120\ttotal: 652ms\tremaining: 470ms\n",
      "581:\tlearn: 0.1752903\ttotal: 653ms\tremaining: 469ms\n",
      "582:\tlearn: 0.1750857\ttotal: 654ms\tremaining: 468ms\n",
      "583:\tlearn: 0.1749375\ttotal: 654ms\tremaining: 466ms\n",
      "584:\tlearn: 0.1747734\ttotal: 655ms\tremaining: 465ms\n",
      "585:\tlearn: 0.1746008\ttotal: 656ms\tremaining: 464ms\n",
      "586:\tlearn: 0.1744437\ttotal: 657ms\tremaining: 462ms\n",
      "587:\tlearn: 0.1743075\ttotal: 658ms\tremaining: 461ms\n",
      "588:\tlearn: 0.1741929\ttotal: 659ms\tremaining: 460ms\n",
      "589:\tlearn: 0.1740986\ttotal: 660ms\tremaining: 458ms\n",
      "590:\tlearn: 0.1739413\ttotal: 660ms\tremaining: 457ms\n",
      "591:\tlearn: 0.1737188\ttotal: 661ms\tremaining: 456ms\n",
      "592:\tlearn: 0.1734856\ttotal: 662ms\tremaining: 454ms\n",
      "593:\tlearn: 0.1733541\ttotal: 663ms\tremaining: 453ms\n",
      "594:\tlearn: 0.1732223\ttotal: 664ms\tremaining: 452ms\n",
      "595:\tlearn: 0.1730590\ttotal: 665ms\tremaining: 451ms\n",
      "596:\tlearn: 0.1728885\ttotal: 666ms\tremaining: 449ms\n",
      "597:\tlearn: 0.1727925\ttotal: 666ms\tremaining: 448ms\n",
      "598:\tlearn: 0.1726584\ttotal: 667ms\tremaining: 447ms\n",
      "599:\tlearn: 0.1723592\ttotal: 668ms\tremaining: 445ms\n",
      "600:\tlearn: 0.1720218\ttotal: 669ms\tremaining: 444ms\n",
      "601:\tlearn: 0.1718878\ttotal: 670ms\tremaining: 443ms\n",
      "602:\tlearn: 0.1716683\ttotal: 670ms\tremaining: 441ms\n",
      "603:\tlearn: 0.1714228\ttotal: 671ms\tremaining: 440ms\n",
      "604:\tlearn: 0.1712381\ttotal: 672ms\tremaining: 439ms\n",
      "605:\tlearn: 0.1710104\ttotal: 673ms\tremaining: 437ms\n",
      "606:\tlearn: 0.1707818\ttotal: 674ms\tremaining: 436ms\n",
      "607:\tlearn: 0.1706375\ttotal: 674ms\tremaining: 435ms\n",
      "608:\tlearn: 0.1705269\ttotal: 675ms\tremaining: 433ms\n",
      "609:\tlearn: 0.1704463\ttotal: 676ms\tremaining: 432ms\n",
      "610:\tlearn: 0.1701824\ttotal: 677ms\tremaining: 431ms\n",
      "611:\tlearn: 0.1701168\ttotal: 678ms\tremaining: 430ms\n",
      "612:\tlearn: 0.1698941\ttotal: 678ms\tremaining: 428ms\n",
      "613:\tlearn: 0.1698087\ttotal: 679ms\tremaining: 427ms\n",
      "614:\tlearn: 0.1694521\ttotal: 680ms\tremaining: 426ms\n",
      "615:\tlearn: 0.1693036\ttotal: 681ms\tremaining: 424ms\n",
      "616:\tlearn: 0.1691088\ttotal: 682ms\tremaining: 423ms\n",
      "617:\tlearn: 0.1690359\ttotal: 683ms\tremaining: 422ms\n",
      "618:\tlearn: 0.1689483\ttotal: 683ms\tremaining: 421ms\n",
      "619:\tlearn: 0.1687657\ttotal: 684ms\tremaining: 419ms\n",
      "620:\tlearn: 0.1685486\ttotal: 685ms\tremaining: 418ms\n",
      "621:\tlearn: 0.1684254\ttotal: 686ms\tremaining: 417ms\n",
      "622:\tlearn: 0.1682714\ttotal: 686ms\tremaining: 415ms\n",
      "623:\tlearn: 0.1680005\ttotal: 688ms\tremaining: 415ms\n",
      "624:\tlearn: 0.1677941\ttotal: 689ms\tremaining: 414ms\n",
      "625:\tlearn: 0.1675518\ttotal: 690ms\tremaining: 412ms\n",
      "626:\tlearn: 0.1673818\ttotal: 691ms\tremaining: 411ms\n",
      "627:\tlearn: 0.1672662\ttotal: 692ms\tremaining: 410ms\n",
      "628:\tlearn: 0.1671291\ttotal: 693ms\tremaining: 408ms\n",
      "629:\tlearn: 0.1668529\ttotal: 693ms\tremaining: 407ms\n",
      "630:\tlearn: 0.1667050\ttotal: 694ms\tremaining: 406ms\n",
      "631:\tlearn: 0.1664737\ttotal: 695ms\tremaining: 405ms\n",
      "632:\tlearn: 0.1662493\ttotal: 696ms\tremaining: 403ms\n",
      "633:\tlearn: 0.1661171\ttotal: 697ms\tremaining: 402ms\n",
      "634:\tlearn: 0.1659875\ttotal: 697ms\tremaining: 401ms\n",
      "635:\tlearn: 0.1658514\ttotal: 698ms\tremaining: 400ms\n",
      "636:\tlearn: 0.1656615\ttotal: 699ms\tremaining: 398ms\n",
      "637:\tlearn: 0.1654929\ttotal: 700ms\tremaining: 397ms\n",
      "638:\tlearn: 0.1653767\ttotal: 701ms\tremaining: 396ms\n",
      "639:\tlearn: 0.1652690\ttotal: 702ms\tremaining: 395ms\n",
      "640:\tlearn: 0.1648070\ttotal: 703ms\tremaining: 394ms\n",
      "641:\tlearn: 0.1645889\ttotal: 704ms\tremaining: 392ms\n",
      "642:\tlearn: 0.1645159\ttotal: 705ms\tremaining: 391ms\n",
      "643:\tlearn: 0.1644163\ttotal: 705ms\tremaining: 390ms\n",
      "644:\tlearn: 0.1640197\ttotal: 706ms\tremaining: 389ms\n",
      "645:\tlearn: 0.1637171\ttotal: 707ms\tremaining: 387ms\n",
      "646:\tlearn: 0.1635423\ttotal: 708ms\tremaining: 386ms\n",
      "647:\tlearn: 0.1634206\ttotal: 709ms\tremaining: 385ms\n",
      "648:\tlearn: 0.1633338\ttotal: 710ms\tremaining: 384ms\n",
      "649:\tlearn: 0.1631914\ttotal: 710ms\tremaining: 383ms\n",
      "650:\tlearn: 0.1628777\ttotal: 711ms\tremaining: 381ms\n",
      "651:\tlearn: 0.1626774\ttotal: 712ms\tremaining: 380ms\n",
      "652:\tlearn: 0.1624777\ttotal: 713ms\tremaining: 379ms\n",
      "653:\tlearn: 0.1622848\ttotal: 714ms\tremaining: 378ms\n",
      "654:\tlearn: 0.1621142\ttotal: 714ms\tremaining: 376ms\n",
      "655:\tlearn: 0.1620187\ttotal: 716ms\tremaining: 375ms\n",
      "656:\tlearn: 0.1618880\ttotal: 716ms\tremaining: 374ms\n",
      "657:\tlearn: 0.1616585\ttotal: 717ms\tremaining: 373ms\n",
      "658:\tlearn: 0.1615570\ttotal: 718ms\tremaining: 372ms\n",
      "659:\tlearn: 0.1614985\ttotal: 719ms\tremaining: 370ms\n",
      "660:\tlearn: 0.1612976\ttotal: 720ms\tremaining: 369ms\n",
      "661:\tlearn: 0.1611000\ttotal: 721ms\tremaining: 368ms\n",
      "662:\tlearn: 0.1610301\ttotal: 722ms\tremaining: 367ms\n",
      "663:\tlearn: 0.1609189\ttotal: 723ms\tremaining: 366ms\n",
      "664:\tlearn: 0.1607714\ttotal: 724ms\tremaining: 365ms\n",
      "665:\tlearn: 0.1606747\ttotal: 724ms\tremaining: 363ms\n",
      "666:\tlearn: 0.1606317\ttotal: 725ms\tremaining: 362ms\n",
      "667:\tlearn: 0.1603800\ttotal: 726ms\tremaining: 361ms\n",
      "668:\tlearn: 0.1601478\ttotal: 727ms\tremaining: 360ms\n",
      "669:\tlearn: 0.1600078\ttotal: 728ms\tremaining: 359ms\n",
      "670:\tlearn: 0.1598918\ttotal: 729ms\tremaining: 357ms\n",
      "671:\tlearn: 0.1598052\ttotal: 730ms\tremaining: 356ms\n",
      "672:\tlearn: 0.1596480\ttotal: 731ms\tremaining: 355ms\n",
      "673:\tlearn: 0.1595239\ttotal: 731ms\tremaining: 354ms\n",
      "674:\tlearn: 0.1593920\ttotal: 732ms\tremaining: 353ms\n",
      "675:\tlearn: 0.1592148\ttotal: 733ms\tremaining: 352ms\n",
      "676:\tlearn: 0.1589173\ttotal: 734ms\tremaining: 350ms\n",
      "677:\tlearn: 0.1588502\ttotal: 735ms\tremaining: 349ms\n",
      "678:\tlearn: 0.1587339\ttotal: 736ms\tremaining: 348ms\n"
     ]
    },
    {
     "name": "stdout",
     "output_type": "stream",
     "text": [
      "679:\tlearn: 0.1585403\ttotal: 742ms\tremaining: 349ms\n",
      "680:\tlearn: 0.1583400\ttotal: 743ms\tremaining: 348ms\n",
      "681:\tlearn: 0.1581060\ttotal: 744ms\tremaining: 347ms\n",
      "682:\tlearn: 0.1579737\ttotal: 744ms\tremaining: 346ms\n",
      "683:\tlearn: 0.1578991\ttotal: 745ms\tremaining: 344ms\n",
      "684:\tlearn: 0.1577472\ttotal: 746ms\tremaining: 343ms\n",
      "685:\tlearn: 0.1575459\ttotal: 747ms\tremaining: 342ms\n",
      "686:\tlearn: 0.1572673\ttotal: 748ms\tremaining: 341ms\n",
      "687:\tlearn: 0.1571823\ttotal: 749ms\tremaining: 340ms\n",
      "688:\tlearn: 0.1568829\ttotal: 750ms\tremaining: 339ms\n",
      "689:\tlearn: 0.1567914\ttotal: 751ms\tremaining: 338ms\n",
      "690:\tlearn: 0.1567387\ttotal: 752ms\tremaining: 336ms\n",
      "691:\tlearn: 0.1566595\ttotal: 753ms\tremaining: 335ms\n",
      "692:\tlearn: 0.1565069\ttotal: 754ms\tremaining: 334ms\n",
      "693:\tlearn: 0.1563741\ttotal: 755ms\tremaining: 333ms\n",
      "694:\tlearn: 0.1561655\ttotal: 756ms\tremaining: 332ms\n",
      "695:\tlearn: 0.1558701\ttotal: 757ms\tremaining: 331ms\n",
      "696:\tlearn: 0.1557227\ttotal: 758ms\tremaining: 330ms\n",
      "697:\tlearn: 0.1555264\ttotal: 759ms\tremaining: 329ms\n",
      "698:\tlearn: 0.1554102\ttotal: 760ms\tremaining: 327ms\n",
      "699:\tlearn: 0.1551928\ttotal: 762ms\tremaining: 327ms\n",
      "700:\tlearn: 0.1549517\ttotal: 763ms\tremaining: 326ms\n",
      "701:\tlearn: 0.1548886\ttotal: 764ms\tremaining: 324ms\n",
      "702:\tlearn: 0.1548173\ttotal: 765ms\tremaining: 323ms\n",
      "703:\tlearn: 0.1546968\ttotal: 766ms\tremaining: 322ms\n",
      "704:\tlearn: 0.1545806\ttotal: 767ms\tremaining: 321ms\n",
      "705:\tlearn: 0.1543494\ttotal: 768ms\tremaining: 320ms\n",
      "706:\tlearn: 0.1542890\ttotal: 769ms\tremaining: 319ms\n",
      "707:\tlearn: 0.1540052\ttotal: 770ms\tremaining: 317ms\n",
      "708:\tlearn: 0.1538880\ttotal: 770ms\tremaining: 316ms\n",
      "709:\tlearn: 0.1536842\ttotal: 771ms\tremaining: 315ms\n",
      "710:\tlearn: 0.1535330\ttotal: 772ms\tremaining: 314ms\n",
      "711:\tlearn: 0.1533231\ttotal: 773ms\tremaining: 313ms\n",
      "712:\tlearn: 0.1531409\ttotal: 774ms\tremaining: 311ms\n",
      "713:\tlearn: 0.1529422\ttotal: 774ms\tremaining: 310ms\n",
      "714:\tlearn: 0.1527963\ttotal: 775ms\tremaining: 309ms\n",
      "715:\tlearn: 0.1526510\ttotal: 776ms\tremaining: 308ms\n",
      "716:\tlearn: 0.1525946\ttotal: 777ms\tremaining: 307ms\n",
      "717:\tlearn: 0.1525046\ttotal: 778ms\tremaining: 306ms\n",
      "718:\tlearn: 0.1523986\ttotal: 779ms\tremaining: 304ms\n",
      "719:\tlearn: 0.1522685\ttotal: 780ms\tremaining: 303ms\n",
      "720:\tlearn: 0.1520661\ttotal: 781ms\tremaining: 302ms\n",
      "721:\tlearn: 0.1519706\ttotal: 782ms\tremaining: 301ms\n",
      "722:\tlearn: 0.1519313\ttotal: 782ms\tremaining: 300ms\n",
      "723:\tlearn: 0.1517973\ttotal: 783ms\tremaining: 299ms\n",
      "724:\tlearn: 0.1516782\ttotal: 784ms\tremaining: 298ms\n",
      "725:\tlearn: 0.1515157\ttotal: 785ms\tremaining: 296ms\n",
      "726:\tlearn: 0.1513594\ttotal: 786ms\tremaining: 295ms\n",
      "727:\tlearn: 0.1512058\ttotal: 787ms\tremaining: 294ms\n",
      "728:\tlearn: 0.1510763\ttotal: 788ms\tremaining: 293ms\n",
      "729:\tlearn: 0.1509925\ttotal: 789ms\tremaining: 292ms\n",
      "730:\tlearn: 0.1508834\ttotal: 790ms\tremaining: 291ms\n",
      "731:\tlearn: 0.1506251\ttotal: 790ms\tremaining: 289ms\n",
      "732:\tlearn: 0.1505260\ttotal: 791ms\tremaining: 288ms\n",
      "733:\tlearn: 0.1503971\ttotal: 792ms\tremaining: 287ms\n",
      "734:\tlearn: 0.1502934\ttotal: 793ms\tremaining: 286ms\n",
      "735:\tlearn: 0.1501777\ttotal: 794ms\tremaining: 285ms\n",
      "736:\tlearn: 0.1499943\ttotal: 795ms\tremaining: 284ms\n",
      "737:\tlearn: 0.1498615\ttotal: 796ms\tremaining: 283ms\n",
      "738:\tlearn: 0.1497393\ttotal: 797ms\tremaining: 281ms\n",
      "739:\tlearn: 0.1495744\ttotal: 797ms\tremaining: 280ms\n",
      "740:\tlearn: 0.1494848\ttotal: 798ms\tremaining: 279ms\n",
      "741:\tlearn: 0.1492056\ttotal: 799ms\tremaining: 278ms\n",
      "742:\tlearn: 0.1489635\ttotal: 800ms\tremaining: 277ms\n",
      "743:\tlearn: 0.1489205\ttotal: 801ms\tremaining: 276ms\n",
      "744:\tlearn: 0.1487173\ttotal: 802ms\tremaining: 275ms\n",
      "745:\tlearn: 0.1485701\ttotal: 803ms\tremaining: 273ms\n",
      "746:\tlearn: 0.1484696\ttotal: 804ms\tremaining: 272ms\n",
      "747:\tlearn: 0.1484061\ttotal: 805ms\tremaining: 271ms\n",
      "748:\tlearn: 0.1482161\ttotal: 806ms\tremaining: 270ms\n",
      "749:\tlearn: 0.1481852\ttotal: 806ms\tremaining: 269ms\n",
      "750:\tlearn: 0.1481198\ttotal: 807ms\tremaining: 268ms\n",
      "751:\tlearn: 0.1477927\ttotal: 808ms\tremaining: 266ms\n",
      "752:\tlearn: 0.1476546\ttotal: 809ms\tremaining: 265ms\n",
      "753:\tlearn: 0.1475906\ttotal: 810ms\tremaining: 264ms\n",
      "754:\tlearn: 0.1473204\ttotal: 811ms\tremaining: 263ms\n",
      "755:\tlearn: 0.1471223\ttotal: 812ms\tremaining: 262ms\n",
      "756:\tlearn: 0.1469344\ttotal: 812ms\tremaining: 261ms\n",
      "757:\tlearn: 0.1467453\ttotal: 813ms\tremaining: 260ms\n",
      "758:\tlearn: 0.1466016\ttotal: 814ms\tremaining: 258ms\n",
      "759:\tlearn: 0.1464679\ttotal: 815ms\tremaining: 257ms\n",
      "760:\tlearn: 0.1463295\ttotal: 816ms\tremaining: 256ms\n",
      "761:\tlearn: 0.1461869\ttotal: 816ms\tremaining: 255ms\n",
      "762:\tlearn: 0.1461256\ttotal: 817ms\tremaining: 254ms\n",
      "763:\tlearn: 0.1458524\ttotal: 818ms\tremaining: 253ms\n",
      "764:\tlearn: 0.1457216\ttotal: 819ms\tremaining: 252ms\n",
      "765:\tlearn: 0.1455125\ttotal: 820ms\tremaining: 250ms\n",
      "766:\tlearn: 0.1454135\ttotal: 820ms\tremaining: 249ms\n",
      "767:\tlearn: 0.1452339\ttotal: 821ms\tremaining: 248ms\n",
      "768:\tlearn: 0.1450771\ttotal: 822ms\tremaining: 247ms\n",
      "769:\tlearn: 0.1448597\ttotal: 823ms\tremaining: 246ms\n",
      "770:\tlearn: 0.1447545\ttotal: 824ms\tremaining: 245ms\n",
      "771:\tlearn: 0.1446348\ttotal: 825ms\tremaining: 244ms\n",
      "772:\tlearn: 0.1444370\ttotal: 825ms\tremaining: 242ms\n",
      "773:\tlearn: 0.1442677\ttotal: 826ms\tremaining: 241ms\n",
      "774:\tlearn: 0.1441779\ttotal: 827ms\tremaining: 240ms\n",
      "775:\tlearn: 0.1441367\ttotal: 828ms\tremaining: 239ms\n",
      "776:\tlearn: 0.1439320\ttotal: 829ms\tremaining: 238ms\n",
      "777:\tlearn: 0.1437994\ttotal: 829ms\tremaining: 237ms\n",
      "778:\tlearn: 0.1436887\ttotal: 830ms\tremaining: 236ms\n",
      "779:\tlearn: 0.1436275\ttotal: 831ms\tremaining: 234ms\n",
      "780:\tlearn: 0.1434915\ttotal: 832ms\tremaining: 233ms\n",
      "781:\tlearn: 0.1434148\ttotal: 833ms\tremaining: 232ms\n",
      "782:\tlearn: 0.1432114\ttotal: 833ms\tremaining: 231ms\n",
      "783:\tlearn: 0.1431571\ttotal: 834ms\tremaining: 230ms\n",
      "784:\tlearn: 0.1430488\ttotal: 835ms\tremaining: 229ms\n",
      "785:\tlearn: 0.1429570\ttotal: 836ms\tremaining: 228ms\n",
      "786:\tlearn: 0.1428515\ttotal: 837ms\tremaining: 226ms\n",
      "787:\tlearn: 0.1426436\ttotal: 838ms\tremaining: 225ms\n",
      "788:\tlearn: 0.1425275\ttotal: 839ms\tremaining: 224ms\n",
      "789:\tlearn: 0.1423575\ttotal: 839ms\tremaining: 223ms\n",
      "790:\tlearn: 0.1421190\ttotal: 840ms\tremaining: 222ms\n",
      "791:\tlearn: 0.1420641\ttotal: 841ms\tremaining: 221ms\n",
      "792:\tlearn: 0.1418540\ttotal: 842ms\tremaining: 220ms\n",
      "793:\tlearn: 0.1417195\ttotal: 843ms\tremaining: 219ms\n",
      "794:\tlearn: 0.1416989\ttotal: 844ms\tremaining: 218ms\n",
      "795:\tlearn: 0.1416744\ttotal: 844ms\tremaining: 216ms\n",
      "796:\tlearn: 0.1414443\ttotal: 845ms\tremaining: 215ms\n",
      "797:\tlearn: 0.1413220\ttotal: 846ms\tremaining: 214ms\n",
      "798:\tlearn: 0.1411512\ttotal: 847ms\tremaining: 213ms\n",
      "799:\tlearn: 0.1410301\ttotal: 847ms\tremaining: 212ms\n",
      "800:\tlearn: 0.1409670\ttotal: 848ms\tremaining: 211ms\n",
      "801:\tlearn: 0.1408489\ttotal: 849ms\tremaining: 210ms\n",
      "802:\tlearn: 0.1407313\ttotal: 850ms\tremaining: 209ms\n",
      "803:\tlearn: 0.1405925\ttotal: 851ms\tremaining: 207ms\n",
      "804:\tlearn: 0.1405454\ttotal: 851ms\tremaining: 206ms\n",
      "805:\tlearn: 0.1403868\ttotal: 852ms\tremaining: 205ms\n",
      "806:\tlearn: 0.1401526\ttotal: 853ms\tremaining: 204ms\n",
      "807:\tlearn: 0.1401045\ttotal: 854ms\tremaining: 203ms\n",
      "808:\tlearn: 0.1399739\ttotal: 855ms\tremaining: 202ms\n",
      "809:\tlearn: 0.1398494\ttotal: 856ms\tremaining: 201ms\n",
      "810:\tlearn: 0.1397153\ttotal: 857ms\tremaining: 200ms\n",
      "811:\tlearn: 0.1395352\ttotal: 858ms\tremaining: 199ms\n",
      "812:\tlearn: 0.1394829\ttotal: 858ms\tremaining: 197ms\n",
      "813:\tlearn: 0.1394282\ttotal: 859ms\tremaining: 196ms\n",
      "814:\tlearn: 0.1393411\ttotal: 860ms\tremaining: 195ms\n",
      "815:\tlearn: 0.1390843\ttotal: 861ms\tremaining: 194ms\n",
      "816:\tlearn: 0.1389478\ttotal: 862ms\tremaining: 193ms\n",
      "817:\tlearn: 0.1388499\ttotal: 863ms\tremaining: 192ms\n",
      "818:\tlearn: 0.1387279\ttotal: 864ms\tremaining: 191ms\n",
      "819:\tlearn: 0.1385347\ttotal: 864ms\tremaining: 190ms\n",
      "820:\tlearn: 0.1383106\ttotal: 865ms\tremaining: 189ms\n",
      "821:\tlearn: 0.1380825\ttotal: 866ms\tremaining: 188ms\n",
      "822:\tlearn: 0.1377876\ttotal: 867ms\tremaining: 186ms\n",
      "823:\tlearn: 0.1376529\ttotal: 868ms\tremaining: 185ms\n",
      "824:\tlearn: 0.1375479\ttotal: 869ms\tremaining: 184ms\n",
      "825:\tlearn: 0.1374190\ttotal: 870ms\tremaining: 183ms\n",
      "826:\tlearn: 0.1373101\ttotal: 870ms\tremaining: 182ms\n",
      "827:\tlearn: 0.1372367\ttotal: 874ms\tremaining: 182ms\n",
      "828:\tlearn: 0.1371343\ttotal: 875ms\tremaining: 181ms\n",
      "829:\tlearn: 0.1369500\ttotal: 876ms\tremaining: 180ms\n",
      "830:\tlearn: 0.1367880\ttotal: 878ms\tremaining: 178ms\n",
      "831:\tlearn: 0.1366660\ttotal: 879ms\tremaining: 177ms\n",
      "832:\tlearn: 0.1365077\ttotal: 880ms\tremaining: 176ms\n",
      "833:\tlearn: 0.1363790\ttotal: 881ms\tremaining: 175ms\n",
      "834:\tlearn: 0.1360635\ttotal: 881ms\tremaining: 174ms\n",
      "835:\tlearn: 0.1359066\ttotal: 882ms\tremaining: 173ms\n",
      "836:\tlearn: 0.1357336\ttotal: 883ms\tremaining: 172ms\n",
      "837:\tlearn: 0.1355769\ttotal: 885ms\tremaining: 171ms\n",
      "838:\tlearn: 0.1354646\ttotal: 886ms\tremaining: 170ms\n",
      "839:\tlearn: 0.1352250\ttotal: 887ms\tremaining: 169ms\n",
      "840:\tlearn: 0.1351797\ttotal: 888ms\tremaining: 168ms\n",
      "841:\tlearn: 0.1351065\ttotal: 889ms\tremaining: 167ms\n",
      "842:\tlearn: 0.1349079\ttotal: 890ms\tremaining: 166ms\n",
      "843:\tlearn: 0.1347367\ttotal: 891ms\tremaining: 165ms\n",
      "844:\tlearn: 0.1345422\ttotal: 891ms\tremaining: 164ms\n",
      "845:\tlearn: 0.1344139\ttotal: 892ms\tremaining: 162ms\n",
      "846:\tlearn: 0.1342589\ttotal: 893ms\tremaining: 161ms\n",
      "847:\tlearn: 0.1341434\ttotal: 894ms\tremaining: 160ms\n",
      "848:\tlearn: 0.1339310\ttotal: 895ms\tremaining: 159ms\n",
      "849:\tlearn: 0.1336899\ttotal: 896ms\tremaining: 158ms\n",
      "850:\tlearn: 0.1335620\ttotal: 896ms\tremaining: 157ms\n",
      "851:\tlearn: 0.1335079\ttotal: 898ms\tremaining: 156ms\n",
      "852:\tlearn: 0.1333729\ttotal: 899ms\tremaining: 155ms\n",
      "853:\tlearn: 0.1332867\ttotal: 900ms\tremaining: 154ms\n",
      "854:\tlearn: 0.1330519\ttotal: 900ms\tremaining: 153ms\n",
      "855:\tlearn: 0.1329038\ttotal: 901ms\tremaining: 152ms\n",
      "856:\tlearn: 0.1327985\ttotal: 902ms\tremaining: 151ms\n",
      "857:\tlearn: 0.1326796\ttotal: 903ms\tremaining: 149ms\n",
      "858:\tlearn: 0.1325524\ttotal: 904ms\tremaining: 148ms\n",
      "859:\tlearn: 0.1324025\ttotal: 905ms\tremaining: 147ms\n",
      "860:\tlearn: 0.1322409\ttotal: 906ms\tremaining: 146ms\n",
      "861:\tlearn: 0.1321767\ttotal: 907ms\tremaining: 145ms\n",
      "862:\tlearn: 0.1319895\ttotal: 908ms\tremaining: 144ms\n",
      "863:\tlearn: 0.1318141\ttotal: 908ms\tremaining: 143ms\n",
      "864:\tlearn: 0.1317039\ttotal: 909ms\tremaining: 142ms\n",
      "865:\tlearn: 0.1316264\ttotal: 910ms\tremaining: 141ms\n",
      "866:\tlearn: 0.1315443\ttotal: 911ms\tremaining: 140ms\n",
      "867:\tlearn: 0.1314666\ttotal: 912ms\tremaining: 139ms\n",
      "868:\tlearn: 0.1312442\ttotal: 913ms\tremaining: 138ms\n",
      "869:\tlearn: 0.1311103\ttotal: 914ms\tremaining: 137ms\n",
      "870:\tlearn: 0.1310440\ttotal: 914ms\tremaining: 135ms\n",
      "871:\tlearn: 0.1308913\ttotal: 915ms\tremaining: 134ms\n",
      "872:\tlearn: 0.1307584\ttotal: 916ms\tremaining: 133ms\n",
      "873:\tlearn: 0.1307199\ttotal: 917ms\tremaining: 132ms\n",
      "874:\tlearn: 0.1305737\ttotal: 918ms\tremaining: 131ms\n",
      "875:\tlearn: 0.1304543\ttotal: 919ms\tremaining: 130ms\n",
      "876:\tlearn: 0.1303008\ttotal: 920ms\tremaining: 129ms\n",
      "877:\tlearn: 0.1302232\ttotal: 921ms\tremaining: 128ms\n",
      "878:\tlearn: 0.1300596\ttotal: 922ms\tremaining: 127ms\n",
      "879:\tlearn: 0.1299313\ttotal: 923ms\tremaining: 126ms\n",
      "880:\tlearn: 0.1297515\ttotal: 923ms\tremaining: 125ms\n",
      "881:\tlearn: 0.1296773\ttotal: 924ms\tremaining: 124ms\n",
      "882:\tlearn: 0.1296129\ttotal: 925ms\tremaining: 123ms\n"
     ]
    },
    {
     "name": "stdout",
     "output_type": "stream",
     "text": [
      "883:\tlearn: 0.1294875\ttotal: 927ms\tremaining: 122ms\n",
      "884:\tlearn: 0.1292997\ttotal: 928ms\tremaining: 121ms\n",
      "885:\tlearn: 0.1290877\ttotal: 929ms\tremaining: 120ms\n",
      "886:\tlearn: 0.1288693\ttotal: 932ms\tremaining: 119ms\n",
      "887:\tlearn: 0.1287084\ttotal: 933ms\tremaining: 118ms\n",
      "888:\tlearn: 0.1285698\ttotal: 934ms\tremaining: 117ms\n",
      "889:\tlearn: 0.1284121\ttotal: 935ms\tremaining: 116ms\n",
      "890:\tlearn: 0.1282898\ttotal: 936ms\tremaining: 115ms\n",
      "891:\tlearn: 0.1282056\ttotal: 937ms\tremaining: 113ms\n",
      "892:\tlearn: 0.1280009\ttotal: 938ms\tremaining: 112ms\n",
      "893:\tlearn: 0.1279353\ttotal: 939ms\tremaining: 111ms\n",
      "894:\tlearn: 0.1278425\ttotal: 940ms\tremaining: 110ms\n",
      "895:\tlearn: 0.1276636\ttotal: 941ms\tremaining: 109ms\n",
      "896:\tlearn: 0.1274814\ttotal: 942ms\tremaining: 108ms\n",
      "897:\tlearn: 0.1273657\ttotal: 943ms\tremaining: 107ms\n",
      "898:\tlearn: 0.1271647\ttotal: 944ms\tremaining: 106ms\n",
      "899:\tlearn: 0.1269661\ttotal: 946ms\tremaining: 105ms\n",
      "900:\tlearn: 0.1267971\ttotal: 947ms\tremaining: 104ms\n",
      "901:\tlearn: 0.1266744\ttotal: 948ms\tremaining: 103ms\n",
      "902:\tlearn: 0.1266097\ttotal: 949ms\tremaining: 102ms\n",
      "903:\tlearn: 0.1264096\ttotal: 950ms\tremaining: 101ms\n",
      "904:\tlearn: 0.1263255\ttotal: 950ms\tremaining: 99.8ms\n",
      "905:\tlearn: 0.1262100\ttotal: 951ms\tremaining: 98.7ms\n",
      "906:\tlearn: 0.1260777\ttotal: 952ms\tremaining: 97.6ms\n",
      "907:\tlearn: 0.1260196\ttotal: 953ms\tremaining: 96.5ms\n",
      "908:\tlearn: 0.1259304\ttotal: 953ms\tremaining: 95.4ms\n",
      "909:\tlearn: 0.1257617\ttotal: 954ms\tremaining: 94.4ms\n",
      "910:\tlearn: 0.1256115\ttotal: 955ms\tremaining: 93.3ms\n",
      "911:\tlearn: 0.1254998\ttotal: 956ms\tremaining: 92.2ms\n",
      "912:\tlearn: 0.1254249\ttotal: 957ms\tremaining: 91.2ms\n",
      "913:\tlearn: 0.1252975\ttotal: 958ms\tremaining: 90.1ms\n",
      "914:\tlearn: 0.1252138\ttotal: 958ms\tremaining: 89ms\n",
      "915:\tlearn: 0.1250225\ttotal: 960ms\tremaining: 88ms\n",
      "916:\tlearn: 0.1248748\ttotal: 961ms\tremaining: 87ms\n",
      "917:\tlearn: 0.1247423\ttotal: 962ms\tremaining: 85.9ms\n",
      "918:\tlearn: 0.1245329\ttotal: 963ms\tremaining: 84.9ms\n",
      "919:\tlearn: 0.1243923\ttotal: 964ms\tremaining: 83.9ms\n",
      "920:\tlearn: 0.1242994\ttotal: 965ms\tremaining: 82.8ms\n",
      "921:\tlearn: 0.1242203\ttotal: 966ms\tremaining: 81.7ms\n",
      "922:\tlearn: 0.1241995\ttotal: 967ms\tremaining: 80.7ms\n",
      "923:\tlearn: 0.1240803\ttotal: 968ms\tremaining: 79.6ms\n",
      "924:\tlearn: 0.1239902\ttotal: 969ms\tremaining: 78.5ms\n",
      "925:\tlearn: 0.1238720\ttotal: 969ms\tremaining: 77.5ms\n",
      "926:\tlearn: 0.1237637\ttotal: 970ms\tremaining: 76.4ms\n",
      "927:\tlearn: 0.1235958\ttotal: 971ms\tremaining: 75.3ms\n",
      "928:\tlearn: 0.1234926\ttotal: 972ms\tremaining: 74.3ms\n",
      "929:\tlearn: 0.1233492\ttotal: 973ms\tremaining: 73.2ms\n",
      "930:\tlearn: 0.1232731\ttotal: 973ms\tremaining: 72.1ms\n",
      "931:\tlearn: 0.1232017\ttotal: 974ms\tremaining: 71.1ms\n",
      "932:\tlearn: 0.1231215\ttotal: 975ms\tremaining: 70ms\n",
      "933:\tlearn: 0.1230817\ttotal: 976ms\tremaining: 69ms\n",
      "934:\tlearn: 0.1229690\ttotal: 977ms\tremaining: 67.9ms\n",
      "935:\tlearn: 0.1228635\ttotal: 978ms\tremaining: 66.9ms\n",
      "936:\tlearn: 0.1228184\ttotal: 979ms\tremaining: 65.8ms\n",
      "937:\tlearn: 0.1224790\ttotal: 980ms\tremaining: 64.7ms\n",
      "938:\tlearn: 0.1224012\ttotal: 980ms\tremaining: 63.7ms\n",
      "939:\tlearn: 0.1222497\ttotal: 981ms\tremaining: 62.6ms\n",
      "940:\tlearn: 0.1221785\ttotal: 982ms\tremaining: 61.6ms\n",
      "941:\tlearn: 0.1218712\ttotal: 983ms\tremaining: 60.5ms\n",
      "942:\tlearn: 0.1217470\ttotal: 984ms\tremaining: 59.5ms\n",
      "943:\tlearn: 0.1216512\ttotal: 984ms\tremaining: 58.4ms\n",
      "944:\tlearn: 0.1213964\ttotal: 985ms\tremaining: 57.3ms\n",
      "945:\tlearn: 0.1212301\ttotal: 986ms\tremaining: 56.3ms\n",
      "946:\tlearn: 0.1210451\ttotal: 987ms\tremaining: 55.2ms\n",
      "947:\tlearn: 0.1208696\ttotal: 988ms\tremaining: 54.2ms\n",
      "948:\tlearn: 0.1208142\ttotal: 989ms\tremaining: 53.1ms\n",
      "949:\tlearn: 0.1207237\ttotal: 989ms\tremaining: 52.1ms\n",
      "950:\tlearn: 0.1205960\ttotal: 990ms\tremaining: 51ms\n",
      "951:\tlearn: 0.1205246\ttotal: 991ms\tremaining: 50ms\n",
      "952:\tlearn: 0.1203574\ttotal: 992ms\tremaining: 48.9ms\n",
      "953:\tlearn: 0.1201931\ttotal: 993ms\tremaining: 47.9ms\n",
      "954:\tlearn: 0.1201033\ttotal: 994ms\tremaining: 46.8ms\n",
      "955:\tlearn: 0.1199849\ttotal: 995ms\tremaining: 45.8ms\n",
      "956:\tlearn: 0.1199193\ttotal: 995ms\tremaining: 44.7ms\n",
      "957:\tlearn: 0.1198071\ttotal: 996ms\tremaining: 43.7ms\n",
      "958:\tlearn: 0.1197062\ttotal: 997ms\tremaining: 42.6ms\n",
      "959:\tlearn: 0.1195946\ttotal: 998ms\tremaining: 41.6ms\n",
      "960:\tlearn: 0.1195025\ttotal: 999ms\tremaining: 40.5ms\n",
      "961:\tlearn: 0.1193115\ttotal: 1000ms\tremaining: 39.5ms\n",
      "962:\tlearn: 0.1192757\ttotal: 1s\tremaining: 38.4ms\n",
      "963:\tlearn: 0.1192226\ttotal: 1s\tremaining: 37.4ms\n",
      "964:\tlearn: 0.1190657\ttotal: 1s\tremaining: 36.3ms\n",
      "965:\tlearn: 0.1190261\ttotal: 1s\tremaining: 35.3ms\n",
      "966:\tlearn: 0.1189600\ttotal: 1s\tremaining: 34.2ms\n",
      "967:\tlearn: 0.1188532\ttotal: 1s\tremaining: 33.2ms\n",
      "968:\tlearn: 0.1187336\ttotal: 1s\tremaining: 32.1ms\n",
      "969:\tlearn: 0.1186999\ttotal: 1s\tremaining: 31.1ms\n",
      "970:\tlearn: 0.1184913\ttotal: 1.01s\tremaining: 30.1ms\n",
      "971:\tlearn: 0.1183119\ttotal: 1.01s\tremaining: 29ms\n",
      "972:\tlearn: 0.1182007\ttotal: 1.01s\tremaining: 28ms\n",
      "973:\tlearn: 0.1180296\ttotal: 1.01s\tremaining: 26.9ms\n",
      "974:\tlearn: 0.1178786\ttotal: 1.01s\tremaining: 25.9ms\n",
      "975:\tlearn: 0.1177309\ttotal: 1.01s\tremaining: 24.9ms\n",
      "976:\tlearn: 0.1175994\ttotal: 1.01s\tremaining: 23.8ms\n",
      "977:\tlearn: 0.1175149\ttotal: 1.01s\tremaining: 22.8ms\n",
      "978:\tlearn: 0.1174111\ttotal: 1.01s\tremaining: 21.7ms\n",
      "979:\tlearn: 0.1172842\ttotal: 1.01s\tremaining: 20.7ms\n",
      "980:\tlearn: 0.1171834\ttotal: 1.01s\tremaining: 19.7ms\n",
      "981:\tlearn: 0.1171250\ttotal: 1.01s\tremaining: 18.6ms\n",
      "982:\tlearn: 0.1169584\ttotal: 1.02s\tremaining: 17.6ms\n",
      "983:\tlearn: 0.1168062\ttotal: 1.02s\tremaining: 16.5ms\n",
      "984:\tlearn: 0.1167184\ttotal: 1.02s\tremaining: 15.5ms\n",
      "985:\tlearn: 0.1166139\ttotal: 1.02s\tremaining: 14.5ms\n",
      "986:\tlearn: 0.1164801\ttotal: 1.02s\tremaining: 13.4ms\n",
      "987:\tlearn: 0.1163809\ttotal: 1.02s\tremaining: 12.4ms\n",
      "988:\tlearn: 0.1161875\ttotal: 1.02s\tremaining: 11.4ms\n",
      "989:\tlearn: 0.1160539\ttotal: 1.02s\tremaining: 10.3ms\n",
      "990:\tlearn: 0.1159737\ttotal: 1.02s\tremaining: 9.29ms\n",
      "991:\tlearn: 0.1158562\ttotal: 1.02s\tremaining: 8.26ms\n",
      "992:\tlearn: 0.1156723\ttotal: 1.02s\tremaining: 7.23ms\n",
      "993:\tlearn: 0.1155858\ttotal: 1.03s\tremaining: 6.19ms\n",
      "994:\tlearn: 0.1153876\ttotal: 1.03s\tremaining: 5.16ms\n",
      "995:\tlearn: 0.1153224\ttotal: 1.03s\tremaining: 4.13ms\n",
      "996:\tlearn: 0.1152197\ttotal: 1.03s\tremaining: 3.1ms\n",
      "997:\tlearn: 0.1150810\ttotal: 1.03s\tremaining: 2.06ms\n",
      "998:\tlearn: 0.1149880\ttotal: 1.03s\tremaining: 1.03ms\n",
      "999:\tlearn: 0.1149489\ttotal: 1.03s\tremaining: 0us\n",
      "CatBoostClassifier log_loss 0.3281181242644245\n"
     ]
    },
    {
     "data": {
      "text/plain": [
       "0.9894736842105263"
      ]
     },
     "execution_count": 40,
     "metadata": {},
     "output_type": "execute_result"
    }
   ],
   "source": [
    "from catboost import CatBoostClassifier\n",
    "\n",
    "clf= CatBoostClassifier()\n",
    "\n",
    "clf.fit(X_train, y_train)\n",
    "\n",
    "y_pred = clf.predict_proba(X_test)\n",
    "print('CatBoostClassifier log_loss {}'. format(log_loss(y_test, y_pred)))\n",
    "clf.score(X_train, y_train)"
   ]
  },
  {
   "cell_type": "markdown",
   "metadata": {},
   "source": [
    "### AdaBoostClassifier"
   ]
  },
  {
   "cell_type": "code",
   "execution_count": 41,
   "metadata": {},
   "outputs": [
    {
     "name": "stdout",
     "output_type": "stream",
     "text": [
      "AdaBoostClassifier log loss 0.4123089607886983\n"
     ]
    },
    {
     "data": {
      "text/plain": [
       "0.8842105263157894"
      ]
     },
     "execution_count": 41,
     "metadata": {},
     "output_type": "execute_result"
    }
   ],
   "source": [
    "from sklearn.ensemble import AdaBoostClassifier\n",
    "\n",
    "clf= AdaBoostClassifier(base_estimator=None,\n",
    "    n_estimators=100,\n",
    "    learning_rate=0.05,\n",
    "    random_state=1)\n",
    "clf.fit(X_train, y_train)\n",
    "y_pred = clf.predict_proba(X_test)\n",
    "\n",
    "print('AdaBoostClassifier log loss {}'. format(log_loss(y_test, y_pred)))\n",
    "clf.score(X_train, y_train)"
   ]
  },
  {
   "cell_type": "markdown",
   "metadata": {},
   "source": [
    "### BaggingClassifier"
   ]
  },
  {
   "cell_type": "code",
   "execution_count": 42,
   "metadata": {},
   "outputs": [
    {
     "name": "stdout",
     "output_type": "stream",
     "text": [
      "BaggingClassifier log_loss 0.5124222020585918\n"
     ]
    },
    {
     "data": {
      "text/plain": [
       "1.0"
      ]
     },
     "execution_count": 42,
     "metadata": {},
     "output_type": "execute_result"
    }
   ],
   "source": [
    "from sklearn.ensemble import BaggingClassifier\n",
    "clf= BaggingClassifier(#base_estimator=base_cls,\n",
    "    n_estimators=100,\n",
    "   )\n",
    "\n",
    "clf.fit(X_train, y_train)\n",
    "\n",
    "y_pred = clf.predict_proba(X_test)\n",
    "print('BaggingClassifier log_loss {}'. format(log_loss(y_test, y_pred)))\n",
    "clf.score(X_train, y_train)"
   ]
  },
  {
   "cell_type": "markdown",
   "metadata": {},
   "source": [
    "### GaussianNB"
   ]
  },
  {
   "cell_type": "code",
   "execution_count": 43,
   "metadata": {},
   "outputs": [
    {
     "name": "stdout",
     "output_type": "stream",
     "text": [
      "GaussianNB log loss 0.3573005144625513\n"
     ]
    },
    {
     "data": {
      "text/plain": [
       "0.868421052631579"
      ]
     },
     "execution_count": 43,
     "metadata": {},
     "output_type": "execute_result"
    }
   ],
   "source": [
    "from sklearn.naive_bayes import GaussianNB\n",
    "clf= GaussianNB()\n",
    "\n",
    "clf.fit(X_train, y_train)\n",
    "y_pred = clf.predict_proba(X_test)\n",
    "\n",
    "print('GaussianNB log loss {}'. format(log_loss(y_test, y_pred)))\n",
    "clf.score(X_train, y_train)"
   ]
  },
  {
   "cell_type": "markdown",
   "metadata": {},
   "source": [
    "### Hist_gradient_boosting"
   ]
  },
  {
   "cell_type": "code",
   "execution_count": 44,
   "metadata": {},
   "outputs": [
    {
     "name": "stdout",
     "output_type": "stream",
     "text": [
      "HistGradientBoostingClassifier log loss 0.3042889059445497\n"
     ]
    },
    {
     "data": {
      "text/plain": [
       "0.9447368421052632"
      ]
     },
     "execution_count": 44,
     "metadata": {},
     "output_type": "execute_result"
    }
   ],
   "source": [
    "from sklearn.experimental import enable_hist_gradient_boosting\n",
    "from sklearn.ensemble import HistGradientBoostingClassifier\n",
    "\n",
    "clf= HistGradientBoostingClassifier( #loss='binary_crossentropy',\n",
    "    learning_rate=0.05,\n",
    "#     max_iter=6000,\n",
    "    max_depth=6,\n",
    "#     max_leaf_nodes=5,\n",
    "   )\n",
    "\n",
    "clf.fit(X_train, y_train)\n",
    "y_pred = clf.predict_proba(X_test)\n",
    "\n",
    "print('HistGradientBoostingClassifier log loss {}'. format(log_loss(y_test, y_pred)))\n",
    "clf.score(X_train, y_train)"
   ]
  },
  {
   "cell_type": "markdown",
   "metadata": {},
   "source": [
    "### LGBMClassifier"
   ]
  },
  {
   "cell_type": "code",
   "execution_count": 45,
   "metadata": {},
   "outputs": [
    {
     "name": "stdout",
     "output_type": "stream",
     "text": [
      "LGBMClassifier log_loss 0.3264950273944623\n"
     ]
    },
    {
     "data": {
      "text/plain": [
       "0.9973684210526316"
      ]
     },
     "execution_count": 45,
     "metadata": {},
     "output_type": "execute_result"
    }
   ],
   "source": [
    "from lightgbm import LGBMClassifier\n",
    "\n",
    "clf= LGBMClassifier()\n",
    "\n",
    "clf.fit(X_train, y_train)\n",
    "\n",
    "y_pred = clf.predict_proba(X_test)\n",
    "print('LGBMClassifier log_loss {}'. format(log_loss(y_test, y_pred)))\n",
    "clf.score(X_train, y_train)"
   ]
  },
  {
   "cell_type": "markdown",
   "metadata": {},
   "source": [
    "# Using HyperOpt to find best parameters"
   ]
  },
  {
   "cell_type": "code",
   "execution_count": 66,
   "metadata": {},
   "outputs": [
    {
     "ename": "ModuleNotFoundError",
     "evalue": "No module named 'hyperopt'",
     "output_type": "error",
     "traceback": [
      "\u001b[0;31m---------------------------------------------------------------------------\u001b[0m",
      "\u001b[0;31mModuleNotFoundError\u001b[0m                       Traceback (most recent call last)",
      "\u001b[0;32m<ipython-input-66-451631ada901>\u001b[0m in \u001b[0;36m<module>\u001b[0;34m\u001b[0m\n\u001b[0;32m----> 1\u001b[0;31m \u001b[0;32mfrom\u001b[0m \u001b[0mhyperopt\u001b[0m \u001b[0;32mimport\u001b[0m \u001b[0mhp\u001b[0m\u001b[0;34m\u001b[0m\u001b[0;34m\u001b[0m\u001b[0m\n\u001b[0m\u001b[1;32m      2\u001b[0m \u001b[0;32mfrom\u001b[0m \u001b[0mhyperopt\u001b[0m \u001b[0;32mimport\u001b[0m \u001b[0mfmin\u001b[0m\u001b[0;34m,\u001b[0m \u001b[0mtpe\u001b[0m\u001b[0;34m,\u001b[0m \u001b[0mhp\u001b[0m\u001b[0;34m,\u001b[0m \u001b[0mSTATUS_OK\u001b[0m\u001b[0;34m,\u001b[0m \u001b[0mTrials\u001b[0m\u001b[0;34m\u001b[0m\u001b[0;34m\u001b[0m\u001b[0m\n\u001b[1;32m      3\u001b[0m \u001b[0;32mfrom\u001b[0m \u001b[0msklearn\u001b[0m\u001b[0;34m.\u001b[0m\u001b[0mmetrics\u001b[0m \u001b[0;32mimport\u001b[0m \u001b[0mmean_squared_error\u001b[0m\u001b[0;34m\u001b[0m\u001b[0;34m\u001b[0m\u001b[0m\n",
      "\u001b[0;31mModuleNotFoundError\u001b[0m: No module named 'hyperopt'"
     ]
    }
   ],
   "source": [
    "from hyperopt import hp\n",
    "from hyperopt import fmin, tpe, hp, STATUS_OK, Trials\n",
    "from sklearn.metrics import mean_squared_error"
   ]
  },
  {
   "cell_type": "code",
   "execution_count": null,
   "metadata": {},
   "outputs": [],
   "source": []
  },
  {
   "cell_type": "markdown",
   "metadata": {},
   "source": [
    "### GradientBoostingClassifier"
   ]
  },
  {
   "cell_type": "code",
   "execution_count": 46,
   "metadata": {},
   "outputs": [],
   "source": [
    "from sklearn.ensemble import GradientBoostingClassifier\n"
   ]
  },
  {
   "cell_type": "code",
   "execution_count": 47,
   "metadata": {},
   "outputs": [
    {
     "name": "stdout",
     "output_type": "stream",
     "text": [
      "GradientBoostingClassifier(ccp_alpha=0.0, criterion='friedman_mse', init=None,\n",
      "                           learning_rate=0.1, loss='deviance', max_depth=3,\n",
      "                           max_features=None, max_leaf_nodes=None,\n",
      "                           min_impurity_decrease=0.0, min_impurity_split=None,\n",
      "                           min_samples_leaf=1, min_samples_split=2,\n",
      "                           min_weight_fraction_leaf=0.0, n_estimators=100,\n",
      "                           n_iter_no_change=None, presort='deprecated',\n",
      "                           random_state=None, subsample=1.0, tol=0.0001,\n",
      "                           validation_fraction=0.1, verbose=0,\n",
      "                           warm_start=False)\n"
     ]
    }
   ],
   "source": [
    "print(GradientBoostingClassifier())"
   ]
  },
  {
   "cell_type": "code",
   "execution_count": 48,
   "metadata": {},
   "outputs": [],
   "source": []
  },
  {
   "cell_type": "code",
   "execution_count": 65,
   "metadata": {},
   "outputs": [
    {
     "name": "stdout",
     "output_type": "stream",
     "text": [
      "GradientBoostingClassifier log loss 0.3076357987931048\n"
     ]
    },
    {
     "data": {
      "text/plain": [
       "0.9078947368421053"
      ]
     },
     "execution_count": 65,
     "metadata": {},
     "output_type": "execute_result"
    }
   ],
   "source": [
    "clf= GradientBoostingClassifier(max_depth=2,\n",
    "                                learning_rate=0.1,\n",
    "                                min_samples_split=2,\n",
    "                                min_samples_leaf=1, \n",
    "                                subsample=1,\n",
    "                                max_features='sqrt',\n",
    "                                random_state=10)\n",
    "\n",
    "clf.fit(X_train, y_train)\n",
    "y_pred = clf.predict_proba(X_test)\n",
    "\n",
    "print('GradientBoostingClassifier log loss {}'. format(log_loss(y_test, y_pred)))\n",
    "clf.score(X_train, y_train)"
   ]
  },
  {
   "cell_type": "markdown",
   "metadata": {},
   "source": [
    "## Submission"
   ]
  },
  {
   "cell_type": "code",
   "execution_count": 60,
   "metadata": {},
   "outputs": [],
   "source": [
    "test_df = pd.DataFrame(sc.transform(test_df), columns = test_df.columns)\n"
   ]
  },
  {
   "cell_type": "code",
   "execution_count": 61,
   "metadata": {},
   "outputs": [],
   "source": [
    "y_pred = clf.predict_proba(test_df)\n",
    "result_data_df = pd.DataFrame(y_pred)"
   ]
  },
  {
   "cell_type": "code",
   "execution_count": 62,
   "metadata": {},
   "outputs": [],
   "source": [
    "result_data_df.to_excel('submit.xlsx',index=False)"
   ]
  },
  {
   "cell_type": "code",
   "execution_count": null,
   "metadata": {},
   "outputs": [],
   "source": []
  },
  {
   "cell_type": "code",
   "execution_count": null,
   "metadata": {},
   "outputs": [],
   "source": []
  }
 ],
 "metadata": {
  "kernelspec": {
   "display_name": "Python 3",
   "language": "python",
   "name": "python3"
  },
  "language_info": {
   "codemirror_mode": {
    "name": "ipython",
    "version": 3
   },
   "file_extension": ".py",
   "mimetype": "text/x-python",
   "name": "python",
   "nbconvert_exporter": "python",
   "pygments_lexer": "ipython3",
   "version": "3.6.9"
  }
 },
 "nbformat": 4,
 "nbformat_minor": 4
}
